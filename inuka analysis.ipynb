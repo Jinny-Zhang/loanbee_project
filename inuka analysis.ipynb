{
 "cells": [
  {
   "cell_type": "markdown",
   "metadata": {},
   "source": [
    "# Analysis of Inuka Africa sample loan data"
   ]
  },
  {
   "cell_type": "code",
   "execution_count": 1,
   "metadata": {
    "colab": {},
    "colab_type": "code",
    "id": "KC-zBvxQKBSn"
   },
   "outputs": [],
   "source": [
    "# load packages \n",
    "import numpy as np\n",
    "import pandas as pd\n",
    "from pandas import Series, DataFrame\n",
    "import matplotlib.pyplot as plt\n",
    "%matplotlib inline\n",
    "import seaborn as sns\n",
    "sns.set()\n",
    "import os\n",
    "import warnings\n",
    "warnings.filterwarnings('ignore')"
   ]
  },
  {
   "cell_type": "code",
   "execution_count": 2,
   "metadata": {
    "colab": {
     "base_uri": "https://localhost:8080/",
     "height": 153
    },
    "colab_type": "code",
    "id": "Ds7xGyTS0MYn",
    "outputId": "50adc160-76a1-4841-8588-8b10db1aee49"
   },
   "outputs": [
    {
     "data": {
      "text/plain": [
       "['Inuka Sample Data.xlsx']"
      ]
     },
     "execution_count": 2,
     "metadata": {},
     "output_type": "execute_result"
    }
   ],
   "source": [
    "# create a working directory\n",
    "os.chdir(\"inuka_africa\")\n",
    "os.listdir('.')"
   ]
  },
  {
   "cell_type": "code",
   "execution_count": 3,
   "metadata": {
    "colab": {
     "base_uri": "https://localhost:8080/",
     "height": 170
    },
    "colab_type": "code",
    "id": "lhhflxWt3cHL",
    "outputId": "9b1fb504-de95-44e2-cf99-92a19c7941fd"
   },
   "outputs": [
    {
     "data": {
      "text/plain": [
       "[u'Clients',\n",
       " u'Loans',\n",
       " u'Loan Schedules',\n",
       " u'Loan Payments',\n",
       " u'Offices',\n",
       " u'Groups',\n",
       " u'Loan Products',\n",
       " u'Loan Status',\n",
       " u'Client Groups']"
      ]
     },
     "execution_count": 3,
     "metadata": {},
     "output_type": "execute_result"
    }
   ],
   "source": [
    "# using the sample data sent by client\n",
    "data = pd.ExcelFile('Inuka Sample Data.xlsx')\n",
    "data.sheet_names"
   ]
  },
  {
   "cell_type": "code",
   "execution_count": 4,
   "metadata": {
    "colab": {},
    "colab_type": "code",
    "id": "KZNHHgNl3kaw"
   },
   "outputs": [],
   "source": [
    "# assign each sheet to a dataframe\n",
    "clients = data.parse('Clients')\n",
    "loans = data.parse('Loans', parse_dates=['Date Disbursed', 'Expected Maturity Date', 'Maturity Date', 'Closed Date'], errors='coerce', )\n",
    "loans_schedules = data.parse('Loan Schedules')\n",
    "loans_payments = data.parse('Loan Payments')\n",
    "offices = data.parse('Offices')\n",
    "groups = data.parse('Groups')\n",
    "loan_products = data.parse('Loan Products')\n",
    "loan_status = data.parse('Loan Status')\n",
    "client_groups = data.parse('Client Groups')"
   ]
  },
  {
   "cell_type": "markdown",
   "metadata": {
    "colab_type": "text",
    "id": "6XesrFmv5VGH"
   },
   "source": [
    "# EDA of clients data"
   ]
  },
  {
   "cell_type": "code",
   "execution_count": 5,
   "metadata": {
    "colab": {
     "base_uri": "https://localhost:8080/",
     "height": 204
    },
    "colab_type": "code",
    "id": "f6FGGjvT5rCm",
    "outputId": "80c78379-717b-4c96-cca5-187cde08bffe"
   },
   "outputs": [
    {
     "data": {
      "text/html": [
       "<div>\n",
       "<style scoped>\n",
       "    .dataframe tbody tr th:only-of-type {\n",
       "        vertical-align: middle;\n",
       "    }\n",
       "\n",
       "    .dataframe tbody tr th {\n",
       "        vertical-align: top;\n",
       "    }\n",
       "\n",
       "    .dataframe thead th {\n",
       "        text-align: right;\n",
       "    }\n",
       "</style>\n",
       "<table border=\"1\" class=\"dataframe\">\n",
       "  <thead>\n",
       "    <tr style=\"text-align: right;\">\n",
       "      <th></th>\n",
       "      <th>Client ID</th>\n",
       "      <th>Client Status</th>\n",
       "      <th>Status ID</th>\n",
       "      <th>Office</th>\n",
       "      <th>Office ID</th>\n",
       "      <th>Group</th>\n",
       "      <th>Group ID</th>\n",
       "    </tr>\n",
       "  </thead>\n",
       "  <tbody>\n",
       "    <tr>\n",
       "      <th>0</th>\n",
       "      <td>1</td>\n",
       "      <td>Active</td>\n",
       "      <td>300</td>\n",
       "      <td>Ngong Rd</td>\n",
       "      <td>2</td>\n",
       "      <td>NaN</td>\n",
       "      <td>NaN</td>\n",
       "    </tr>\n",
       "    <tr>\n",
       "      <th>1</th>\n",
       "      <td>2</td>\n",
       "      <td>Active</td>\n",
       "      <td>300</td>\n",
       "      <td>Ngong Rd</td>\n",
       "      <td>2</td>\n",
       "      <td>NaN</td>\n",
       "      <td>NaN</td>\n",
       "    </tr>\n",
       "  </tbody>\n",
       "</table>\n",
       "</div>"
      ],
      "text/plain": [
       "   Client ID Client Status  Status ID    Office  Office ID Group  Group ID\n",
       "0          1        Active        300  Ngong Rd          2   NaN       NaN\n",
       "1          2        Active        300  Ngong Rd          2   NaN       NaN"
      ]
     },
     "execution_count": 5,
     "metadata": {},
     "output_type": "execute_result"
    }
   ],
   "source": [
    "# sample of clients\n",
    "clients.head(2)"
   ]
  },
  {
   "cell_type": "code",
   "execution_count": 6,
   "metadata": {
    "colab": {
     "base_uri": "https://localhost:8080/",
     "height": 68
    },
    "colab_type": "code",
    "id": "cTosJf5Bkvr_",
    "outputId": "ef82f972-7462-4e10-cfc3-afd9cdd94435"
   },
   "outputs": [
    {
     "data": {
      "text/plain": [
       "Index([u'Client_ID', u'Client_Status', u'Status_ID', u'Office', u'Office_ID',\n",
       "       u'Group', u'Group_ID'],\n",
       "      dtype='object')"
      ]
     },
     "execution_count": 6,
     "metadata": {},
     "output_type": "execute_result"
    }
   ],
   "source": [
    "# rename columns\n",
    "clients.columns = clients.columns.str.replace(' ', '_')\n",
    "clients.columns"
   ]
  },
  {
   "cell_type": "code",
   "execution_count": 7,
   "metadata": {
    "colab": {
     "base_uri": "https://localhost:8080/",
     "height": 34
    },
    "colab_type": "code",
    "id": "hplKIw8eKBSs",
    "outputId": "6a774ae5-98ae-4c1f-9de6-310436ceeacd"
   },
   "outputs": [
    {
     "name": "stdout",
     "output_type": "stream",
     "text": [
      "clients data has got 20256 rows and 7 columns.\n"
     ]
    }
   ],
   "source": [
    "#for clients data\n",
    "# clients = pd.read_csv('inuka_clients.csv')\n",
    "print('clients data has got {} rows and {} columns.'.format(clients.shape[0], clients.shape[1]))"
   ]
  },
  {
   "cell_type": "code",
   "execution_count": 8,
   "metadata": {
    "colab": {
     "base_uri": "https://localhost:8080/",
     "height": 153
    },
    "colab_type": "code",
    "id": "mJTwLEmc5guM",
    "outputId": "f7456697-21a9-4775-9b53-2eb57144212e"
   },
   "outputs": [
    {
     "data": {
      "text/plain": [
       "Client_ID            0\n",
       "Client_Status        0\n",
       "Status_ID            0\n",
       "Office               0\n",
       "Office_ID            0\n",
       "Group            17492\n",
       "Group_ID         17492\n",
       "dtype: int64"
      ]
     },
     "execution_count": 8,
     "metadata": {},
     "output_type": "execute_result"
    }
   ],
   "source": [
    "#checking null data\n",
    "clients.isnull().sum()"
   ]
  },
  {
   "cell_type": "code",
   "execution_count": 9,
   "metadata": {
    "colab": {
     "base_uri": "https://localhost:8080/",
     "height": 68
    },
    "colab_type": "code",
    "id": "53j8DoWf5-7F",
    "outputId": "1249e7f7-bc27-418e-f237-3f42179b1f46"
   },
   "outputs": [
    {
     "data": {
      "text/plain": [
       "Active        20227\n",
       "Not Active       29\n",
       "Name: Client_Status, dtype: int64"
      ]
     },
     "execution_count": 9,
     "metadata": {},
     "output_type": "execute_result"
    }
   ],
   "source": [
    "# Account status\n",
    "clients['Client_Status'].value_counts()"
   ]
  },
  {
   "cell_type": "code",
   "execution_count": 10,
   "metadata": {
    "colab": {
     "base_uri": "https://localhost:8080/",
     "height": 510
    },
    "colab_type": "code",
    "id": "wWYSmbc_6Yt6",
    "outputId": "11154bfe-529c-483d-8941-0e1e86134b46"
   },
   "outputs": [
    {
     "data": {
      "text/plain": [
       "Embakasi        1527\n",
       "Kariobangi      1384\n",
       "Nakuru          1243\n",
       "Thika           1204\n",
       "Ngong Rd        1179\n",
       "Eldoret 2       1131\n",
       "Eldoret         1050\n",
       "Kahawa          1028\n",
       "Kiambu          1002\n",
       "Rongai          1000\n",
       "Kitale           988\n",
       "Naivasha         868\n",
       "Kericho          772\n",
       "Limuru           678\n",
       "Kapsabet         668\n",
       "Ngorika          632\n",
       "Mombasa          453\n",
       "Litein           413\n",
       "Mtwapa           364\n",
       "Iten             358\n",
       "Eldoret 3        357\n",
       "Kapenguria       346\n",
       "Ndonyo Njeru     343\n",
       "Nandi Hills      341\n",
       "Bomet            317\n",
       "Ukunda           311\n",
       "Narok            293\n",
       "Head Office        6\n",
       "Name: Office, dtype: int64"
      ]
     },
     "execution_count": 10,
     "metadata": {},
     "output_type": "execute_result"
    }
   ],
   "source": [
    "# distribution of values for the Office column \n",
    "clients['Office'].value_counts()"
   ]
  },
  {
   "cell_type": "code",
   "execution_count": 11,
   "metadata": {
    "colab": {
     "base_uri": "https://localhost:8080/",
     "height": 301
    },
    "colab_type": "code",
    "id": "VeaCp4K664x3",
    "outputId": "e51e640f-6d93-47a9-d70c-a7097b9e52d1"
   },
   "outputs": [
    {
     "data": {
      "image/png": "[encoded data removed]",
      "text/plain": [
       "<Figure size 432x288 with 1 Axes>"
      ]
     },
     "metadata": {
      "needs_background": "light"
     },
     "output_type": "display_data"
    }
   ],
   "source": [
    "# client status per branch\n",
    "sns.countplot(y='Office', hue='Client_Status', data=clients)\n",
    "locs, labels = plt.xticks()\n",
    "plt.legend(loc='lower right')\n",
    "plt.title('Client status per branch')\n",
    "plt.show()"
   ]
  },
  {
   "cell_type": "markdown",
   "metadata": {
    "colab_type": "text",
    "id": "1eJ3LK_e9PLp"
   },
   "source": [
    "# EDA of loans data"
   ]
  },
  {
   "cell_type": "code",
   "execution_count": 12,
   "metadata": {
    "colab": {
     "base_uri": "https://localhost:8080/",
     "height": 233
    },
    "colab_type": "code",
    "id": "kL2Peg87liip",
    "outputId": "e155ea0a-e790-46f2-c8cb-c4ddceb646e3"
   },
   "outputs": [
    {
     "data": {
      "text/html": [
       "<div>\n",
       "<style scoped>\n",
       "    .dataframe tbody tr th:only-of-type {\n",
       "        vertical-align: middle;\n",
       "    }\n",
       "\n",
       "    .dataframe tbody tr th {\n",
       "        vertical-align: top;\n",
       "    }\n",
       "\n",
       "    .dataframe thead th {\n",
       "        text-align: right;\n",
       "    }\n",
       "</style>\n",
       "<table border=\"1\" class=\"dataframe\">\n",
       "  <thead>\n",
       "    <tr style=\"text-align: right;\">\n",
       "      <th></th>\n",
       "      <th>Loan ID</th>\n",
       "      <th>Client ID</th>\n",
       "      <th>Product ID</th>\n",
       "      <th>Product</th>\n",
       "      <th>Status ID</th>\n",
       "      <th>Loan Status</th>\n",
       "      <th>Principal</th>\n",
       "      <th>Interest</th>\n",
       "      <th>Repayments</th>\n",
       "      <th>Date Disbursed</th>\n",
       "      <th>...</th>\n",
       "      <th>Closed Date</th>\n",
       "      <th>Principal Repaid</th>\n",
       "      <th>Principal Outstanding</th>\n",
       "      <th>Interest Repaid</th>\n",
       "      <th>Interest Outstanding</th>\n",
       "      <th>Loan Outstanding</th>\n",
       "      <th>Penalties Charged</th>\n",
       "      <th>Penalties Paid</th>\n",
       "      <th>Penalties Waived</th>\n",
       "      <th>Penalties Outstanding</th>\n",
       "    </tr>\n",
       "  </thead>\n",
       "  <tbody>\n",
       "    <tr>\n",
       "      <th>0</th>\n",
       "      <td>1</td>\n",
       "      <td>2</td>\n",
       "      <td>3</td>\n",
       "      <td>Inua Biashara</td>\n",
       "      <td>500</td>\n",
       "      <td>Rejected</td>\n",
       "      <td>0</td>\n",
       "      <td>0.0</td>\n",
       "      <td>4</td>\n",
       "      <td>NaN</td>\n",
       "      <td>...</td>\n",
       "      <td>2015-03-01 00:00:00</td>\n",
       "      <td>0.0</td>\n",
       "      <td>0.0</td>\n",
       "      <td>0.0</td>\n",
       "      <td>0.0</td>\n",
       "      <td>0.0</td>\n",
       "      <td>0.0</td>\n",
       "      <td>0.0</td>\n",
       "      <td>0.0</td>\n",
       "      <td>0.0</td>\n",
       "    </tr>\n",
       "    <tr>\n",
       "      <th>1</th>\n",
       "      <td>2</td>\n",
       "      <td>3</td>\n",
       "      <td>1</td>\n",
       "      <td>Jenga Biashara</td>\n",
       "      <td>500</td>\n",
       "      <td>Rejected</td>\n",
       "      <td>0</td>\n",
       "      <td>0.0</td>\n",
       "      <td>8</td>\n",
       "      <td>NaN</td>\n",
       "      <td>...</td>\n",
       "      <td>2015-03-01 00:00:00</td>\n",
       "      <td>0.0</td>\n",
       "      <td>0.0</td>\n",
       "      <td>0.0</td>\n",
       "      <td>0.0</td>\n",
       "      <td>0.0</td>\n",
       "      <td>0.0</td>\n",
       "      <td>0.0</td>\n",
       "      <td>0.0</td>\n",
       "      <td>0.0</td>\n",
       "    </tr>\n",
       "  </tbody>\n",
       "</table>\n",
       "<p>2 rows × 22 columns</p>\n",
       "</div>"
      ],
      "text/plain": [
       "   Loan ID  Client ID  Product ID         Product  Status ID Loan Status  \\\n",
       "0        1          2           3   Inua Biashara        500    Rejected   \n",
       "1        2          3           1  Jenga Biashara        500    Rejected   \n",
       "\n",
       "   Principal  Interest  Repayments Date Disbursed  ...          Closed Date  \\\n",
       "0          0       0.0           4            NaN  ...  2015-03-01 00:00:00   \n",
       "1          0       0.0           8            NaN  ...  2015-03-01 00:00:00   \n",
       "\n",
       "  Principal Repaid Principal Outstanding  Interest Repaid  \\\n",
       "0              0.0                   0.0              0.0   \n",
       "1              0.0                   0.0              0.0   \n",
       "\n",
       "   Interest Outstanding  Loan Outstanding  Penalties Charged  Penalties Paid  \\\n",
       "0                   0.0               0.0                0.0             0.0   \n",
       "1                   0.0               0.0                0.0             0.0   \n",
       "\n",
       "   Penalties Waived  Penalties Outstanding  \n",
       "0               0.0                    0.0  \n",
       "1               0.0                    0.0  \n",
       "\n",
       "[2 rows x 22 columns]"
      ]
     },
     "execution_count": 12,
     "metadata": {},
     "output_type": "execute_result"
    }
   ],
   "source": [
    "# sample of loans data\n",
    "loans.head(2)"
   ]
  },
  {
   "cell_type": "code",
   "execution_count": 13,
   "metadata": {
    "colab": {
     "base_uri": "https://localhost:8080/",
     "height": 136
    },
    "colab_type": "code",
    "id": "QKod1cOIloL4",
    "outputId": "20ee6cc3-7e4f-440c-aad0-baae9e24f433"
   },
   "outputs": [
    {
     "data": {
      "text/plain": [
       "Index([u'Loan_ID', u'Client_ID', u'Product_ID', u'Product', u'Status_ID',\n",
       "       u'Loan_Status', u'Principal', u'Interest', u'Repayments',\n",
       "       u'Date_Disbursed', u'Expected_Maturity_Date', u'Maturity_Date',\n",
       "       u'Closed_Date', u'Principal_Repaid', u'Principal_Outstanding',\n",
       "       u'Interest_Repaid', u'Interest_Outstanding', u'Loan_Outstanding',\n",
       "       u'Penalties_Charged', u'Penalties_Paid', u'Penalties_Waived',\n",
       "       u'Penalties_Outstanding'],\n",
       "      dtype='object')"
      ]
     },
     "execution_count": 13,
     "metadata": {},
     "output_type": "execute_result"
    }
   ],
   "source": [
    "# rename columns to python standards\n",
    "loans.columns = loans.columns.str.replace(' ', '_')\n",
    "loans.columns"
   ]
  },
  {
   "cell_type": "code",
   "execution_count": 14,
   "metadata": {
    "colab": {
     "base_uri": "https://localhost:8080/",
     "height": 34
    },
    "colab_type": "code",
    "id": "__dyAyKxKBSw",
    "outputId": "b8ababfc-6d0f-4b72-fcc4-5bcfa2cb58e1"
   },
   "outputs": [
    {
     "name": "stdout",
     "output_type": "stream",
     "text": [
      "loans data has got 47342 rows and 22 columns.\n"
     ]
    }
   ],
   "source": [
    "# shape of the data\n",
    "print('loans data has got {} rows and {} columns.'.format(loans.shape[0], loans.shape[1]))"
   ]
  },
  {
   "cell_type": "code",
   "execution_count": 15,
   "metadata": {
    "colab": {
     "base_uri": "https://localhost:8080/",
     "height": 408
    },
    "colab_type": "code",
    "id": "cceDCH_r9k1F",
    "outputId": "fb8ef43e-b87e-450f-8996-49ddc5d9f419"
   },
   "outputs": [
    {
     "data": {
      "text/plain": [
       "Loan_ID                       0\n",
       "Client_ID                     0\n",
       "Product_ID                    0\n",
       "Product                       0\n",
       "Status_ID                     0\n",
       "Loan_Status                   0\n",
       "Principal                     0\n",
       "Interest                      0\n",
       "Repayments                    0\n",
       "Date_Disbursed             2409\n",
       "Expected_Maturity_Date        0\n",
       "Maturity_Date               391\n",
       "Closed_Date               17810\n",
       "Principal_Repaid              0\n",
       "Principal_Outstanding         0\n",
       "Interest_Repaid               0\n",
       "Interest_Outstanding          0\n",
       "Loan_Outstanding              0\n",
       "Penalties_Charged             0\n",
       "Penalties_Paid                0\n",
       "Penalties_Waived              0\n",
       "Penalties_Outstanding         0\n",
       "dtype: int64"
      ]
     },
     "execution_count": 15,
     "metadata": {},
     "output_type": "execute_result"
    }
   ],
   "source": [
    "#checking null data\n",
    "loans.isnull().sum()"
   ]
  },
  {
   "cell_type": "code",
   "execution_count": 16,
   "metadata": {
    "colab": {
     "base_uri": "https://localhost:8080/",
     "height": 408
    },
    "colab_type": "code",
    "id": "GotW7lKX-pek",
    "outputId": "0988cb9c-231d-4eea-cbf9-7f967579aae9"
   },
   "outputs": [
    {
     "data": {
      "text/plain": [
       "Loan_ID                            int64\n",
       "Client_ID                          int64\n",
       "Product_ID                         int64\n",
       "Product                           object\n",
       "Status_ID                          int64\n",
       "Loan_Status                       object\n",
       "Principal                          int64\n",
       "Interest                         float64\n",
       "Repayments                         int64\n",
       "Date_Disbursed                    object\n",
       "Expected_Maturity_Date    datetime64[ns]\n",
       "Maturity_Date                     object\n",
       "Closed_Date                       object\n",
       "Principal_Repaid                 float64\n",
       "Principal_Outstanding            float64\n",
       "Interest_Repaid                  float64\n",
       "Interest_Outstanding             float64\n",
       "Loan_Outstanding                 float64\n",
       "Penalties_Charged                float64\n",
       "Penalties_Paid                   float64\n",
       "Penalties_Waived                 float64\n",
       "Penalties_Outstanding            float64\n",
       "dtype: object"
      ]
     },
     "execution_count": 16,
     "metadata": {},
     "output_type": "execute_result"
    }
   ],
   "source": [
    "# check data types\n",
    "loans.dtypes"
   ]
  },
  {
   "cell_type": "code",
   "execution_count": null,
   "metadata": {},
   "outputs": [],
   "source": []
  },
  {
   "cell_type": "code",
   "execution_count": 17,
   "metadata": {
    "colab": {},
    "colab_type": "code",
    "id": "ohfrjsqM_awV"
   },
   "outputs": [],
   "source": [
    "# convert dates column to datetime types\n",
    "loans['Date_Disbursed'] = pd.to_datetime(loans['Date_Disbursed'])\n",
    "loans['Maturity_Date'] = pd.to_datetime(loans['Maturity_Date'])\n",
    "loans['Closed_Date'] = pd.to_datetime(loans['Closed_Date'])"
   ]
  },
  {
   "cell_type": "code",
   "execution_count": 18,
   "metadata": {},
   "outputs": [
    {
     "data": {
      "text/plain": [
       "count                   44933\n",
       "unique                    626\n",
       "top       2017-04-28 00:00:00\n",
       "freq                      266\n",
       "first     2015-01-06 00:00:00\n",
       "last      2017-06-14 00:00:00\n",
       "Name: Date_Disbursed, dtype: object"
      ]
     },
     "execution_count": 18,
     "metadata": {},
     "output_type": "execute_result"
    }
   ],
   "source": [
    "loans['Date_Disbursed'].describe().T"
   ]
  },
  {
   "cell_type": "markdown",
   "metadata": {},
   "source": [
    "## Our data consists of loans issued between 2015-01-06 and  2017-06-14"
   ]
  },
  {
   "cell_type": "code",
   "execution_count": 19,
   "metadata": {},
   "outputs": [
    {
     "data": {
      "text/plain": [
       "2     11496\n",
       "3      8283\n",
       "1      8013\n",
       "4      5452\n",
       "5      3275\n",
       "6      2454\n",
       "7      2100\n",
       "8      1456\n",
       "9      1125\n",
       "10      850\n",
       "11      605\n",
       "13      533\n",
       "12      468\n",
       "14      378\n",
       "17      187\n",
       "15      165\n",
       "16      144\n",
       "20       80\n",
       "19       57\n",
       "18       54\n",
       "24       48\n",
       "22       44\n",
       "27       27\n",
       "25       25\n",
       "23       23\n",
       "Name: repeat_borrowing, dtype: int64"
      ]
     },
     "execution_count": 19,
     "metadata": {},
     "output_type": "execute_result"
    }
   ],
   "source": [
    "# repeat borrowers\n",
    "loans['repeat_borrowing'] = loans.groupby('Client_ID')['Client_ID'].transform('count')\n",
    "loans.repeat_borrowing.value_counts()"
   ]
  },
  {
   "cell_type": "code",
   "execution_count": 20,
   "metadata": {
    "colab": {
     "base_uri": "https://localhost:8080/",
     "height": 68
    },
    "colab_type": "code",
    "id": "9xlaQTV5AcJs",
    "outputId": "546ad470-42af-4533-f6b0-3790061e1eff"
   },
   "outputs": [
    {
     "data": {
      "text/plain": [
       "right    44933\n",
       "wrong     2409\n",
       "Name: check_dates, dtype: int64"
      ]
     },
     "execution_count": 20,
     "metadata": {},
     "output_type": "execute_result"
    }
   ],
   "source": [
    "# for any given loan, expected maturity > date disbursed\n",
    "loans['check_dates'] = np.where(loans.Expected_Maturity_Date > loans.Date_Disbursed, 'right', 'wrong' )\n",
    "loans.check_dates.value_counts()"
   ]
  },
  {
   "cell_type": "code",
   "execution_count": 21,
   "metadata": {
    "colab": {
     "base_uri": "https://localhost:8080/",
     "height": 111
    },
    "colab_type": "code",
    "id": "uYXj1-jHodH_",
    "outputId": "b71c746c-32a4-4ce3-d8fe-e62bf9c32054"
   },
   "outputs": [
    {
     "data": {
      "text/html": [
       "<div>\n",
       "<style scoped>\n",
       "    .dataframe tbody tr th:only-of-type {\n",
       "        vertical-align: middle;\n",
       "    }\n",
       "\n",
       "    .dataframe tbody tr th {\n",
       "        vertical-align: top;\n",
       "    }\n",
       "\n",
       "    .dataframe thead th {\n",
       "        text-align: right;\n",
       "    }\n",
       "</style>\n",
       "<table border=\"1\" class=\"dataframe\">\n",
       "  <thead>\n",
       "    <tr style=\"text-align: right;\">\n",
       "      <th></th>\n",
       "      <th>Date_Disbursed</th>\n",
       "      <th>Expected_Maturity_Date</th>\n",
       "    </tr>\n",
       "  </thead>\n",
       "  <tbody>\n",
       "    <tr>\n",
       "      <th>0</th>\n",
       "      <td>NaT</td>\n",
       "      <td>2015-02-11</td>\n",
       "    </tr>\n",
       "    <tr>\n",
       "      <th>1</th>\n",
       "      <td>NaT</td>\n",
       "      <td>2015-03-04</td>\n",
       "    </tr>\n",
       "  </tbody>\n",
       "</table>\n",
       "</div>"
      ],
      "text/plain": [
       "  Date_Disbursed Expected_Maturity_Date\n",
       "0            NaT             2015-02-11\n",
       "1            NaT             2015-03-04"
      ]
     },
     "execution_count": 21,
     "metadata": {},
     "output_type": "execute_result"
    }
   ],
   "source": [
    "wrong_dates = loans[loans['check_dates']=='wrong']\n",
    "wrong_dates[['Date_Disbursed', 'Expected_Maturity_Date']].head(2)"
   ]
  },
  {
   "cell_type": "markdown",
   "metadata": {
    "colab_type": "text",
    "id": "iSV9x7ejppa0"
   },
   "source": [
    "## wrong dates are due to missing values in the disbursement dates."
   ]
  },
  {
   "cell_type": "code",
   "execution_count": 23,
   "metadata": {
    "colab": {
     "base_uri": "https://localhost:8080/",
     "height": 170
    },
    "colab_type": "code",
    "id": "JnVG_rG5KBTM",
    "outputId": "33822d99-62cc-4aa9-b260-a049a4222c34",
    "scrolled": true
   },
   "outputs": [
    {
     "data": {
      "text/plain": [
       "Inua Biashara                    25097\n",
       "Jenga Biashara                   18136\n",
       "Dumisha Biashara                  2936\n",
       "New Ngorika Agri Loan              931\n",
       "Inua Biashara Post Paid (15%)      163\n",
       "Ndonyo Njeru Agri Loan              40\n",
       "Inua Biashara Post Paid (10%)       33\n",
       "New Ngorika Capacity Loan            6\n",
       "Name: Product, dtype: int64"
      ]
     },
     "execution_count": 23,
     "metadata": {},
     "output_type": "execute_result"
    }
   ],
   "source": [
    "#distribution of loan products in loans data\n",
    "loans['Product'].value_counts()"
   ]
  },
  {
   "cell_type": "code",
   "execution_count": 24,
   "metadata": {
    "scrolled": true
   },
   "outputs": [
    {
     "data": {
      "image/png": "[encoded data removed]",
      "text/plain": [
       "<Figure size 432x288 with 1 Axes>"
      ]
     },
     "metadata": {
      "needs_background": "light"
     },
     "output_type": "display_data"
    }
   ],
   "source": [
    "sns.countplot(y='Product', hue='Loan_Status', data=loans)\n",
    "locs, labels = plt.xticks()\n",
    "plt.legend(loc='lower right')\n",
    "plt.title('Loan status per product')\n",
    "plt.show()"
   ]
  },
  {
   "cell_type": "code",
   "execution_count": 25,
   "metadata": {},
   "outputs": [
    {
     "data": {
      "text/html": [
       "<div>\n",
       "<style scoped>\n",
       "    .dataframe tbody tr th:only-of-type {\n",
       "        vertical-align: middle;\n",
       "    }\n",
       "\n",
       "    .dataframe tbody tr th {\n",
       "        vertical-align: top;\n",
       "    }\n",
       "\n",
       "    .dataframe thead th {\n",
       "        text-align: right;\n",
       "    }\n",
       "</style>\n",
       "<table border=\"1\" class=\"dataframe\">\n",
       "  <thead>\n",
       "    <tr style=\"text-align: right;\">\n",
       "      <th></th>\n",
       "      <th>Loan_Outstanding</th>\n",
       "    </tr>\n",
       "    <tr>\n",
       "      <th>repeat_borrowing</th>\n",
       "      <th></th>\n",
       "    </tr>\n",
       "  </thead>\n",
       "  <tbody>\n",
       "    <tr>\n",
       "      <th>1</th>\n",
       "      <td>78255531.19</td>\n",
       "    </tr>\n",
       "    <tr>\n",
       "      <th>2</th>\n",
       "      <td>25077528.69</td>\n",
       "    </tr>\n",
       "    <tr>\n",
       "      <th>3</th>\n",
       "      <td>16720040.82</td>\n",
       "    </tr>\n",
       "    <tr>\n",
       "      <th>4</th>\n",
       "      <td>8026911.44</td>\n",
       "    </tr>\n",
       "    <tr>\n",
       "      <th>6</th>\n",
       "      <td>5457273.86</td>\n",
       "    </tr>\n",
       "    <tr>\n",
       "      <th>5</th>\n",
       "      <td>3893622.80</td>\n",
       "    </tr>\n",
       "    <tr>\n",
       "      <th>7</th>\n",
       "      <td>3071273.62</td>\n",
       "    </tr>\n",
       "    <tr>\n",
       "      <th>8</th>\n",
       "      <td>2164329.53</td>\n",
       "    </tr>\n",
       "    <tr>\n",
       "      <th>9</th>\n",
       "      <td>1609873.38</td>\n",
       "    </tr>\n",
       "    <tr>\n",
       "      <th>10</th>\n",
       "      <td>1145982.26</td>\n",
       "    </tr>\n",
       "    <tr>\n",
       "      <th>13</th>\n",
       "      <td>716214.16</td>\n",
       "    </tr>\n",
       "    <tr>\n",
       "      <th>14</th>\n",
       "      <td>680945.16</td>\n",
       "    </tr>\n",
       "    <tr>\n",
       "      <th>11</th>\n",
       "      <td>634643.16</td>\n",
       "    </tr>\n",
       "    <tr>\n",
       "      <th>12</th>\n",
       "      <td>537447.11</td>\n",
       "    </tr>\n",
       "    <tr>\n",
       "      <th>16</th>\n",
       "      <td>455860.14</td>\n",
       "    </tr>\n",
       "    <tr>\n",
       "      <th>17</th>\n",
       "      <td>438291.09</td>\n",
       "    </tr>\n",
       "    <tr>\n",
       "      <th>15</th>\n",
       "      <td>271791.04</td>\n",
       "    </tr>\n",
       "    <tr>\n",
       "      <th>27</th>\n",
       "      <td>202000.04</td>\n",
       "    </tr>\n",
       "    <tr>\n",
       "      <th>24</th>\n",
       "      <td>104884.01</td>\n",
       "    </tr>\n",
       "    <tr>\n",
       "      <th>19</th>\n",
       "      <td>82200.00</td>\n",
       "    </tr>\n",
       "    <tr>\n",
       "      <th>20</th>\n",
       "      <td>70068.02</td>\n",
       "    </tr>\n",
       "    <tr>\n",
       "      <th>22</th>\n",
       "      <td>29000.01</td>\n",
       "    </tr>\n",
       "    <tr>\n",
       "      <th>18</th>\n",
       "      <td>23250.00</td>\n",
       "    </tr>\n",
       "    <tr>\n",
       "      <th>25</th>\n",
       "      <td>11150.00</td>\n",
       "    </tr>\n",
       "    <tr>\n",
       "      <th>23</th>\n",
       "      <td>5000.00</td>\n",
       "    </tr>\n",
       "  </tbody>\n",
       "</table>\n",
       "</div>"
      ],
      "text/plain": [
       "                  Loan_Outstanding\n",
       "repeat_borrowing                  \n",
       "1                      78255531.19\n",
       "2                      25077528.69\n",
       "3                      16720040.82\n",
       "4                       8026911.44\n",
       "6                       5457273.86\n",
       "5                       3893622.80\n",
       "7                       3071273.62\n",
       "8                       2164329.53\n",
       "9                       1609873.38\n",
       "10                      1145982.26\n",
       "13                       716214.16\n",
       "14                       680945.16\n",
       "11                       634643.16\n",
       "12                       537447.11\n",
       "16                       455860.14\n",
       "17                       438291.09\n",
       "15                       271791.04\n",
       "27                       202000.04\n",
       "24                       104884.01\n",
       "19                        82200.00\n",
       "20                        70068.02\n",
       "22                        29000.01\n",
       "18                        23250.00\n",
       "25                        11150.00\n",
       "23                         5000.00"
      ]
     },
     "execution_count": 25,
     "metadata": {},
     "output_type": "execute_result"
    }
   ],
   "source": [
    "# Loan outstanding amount per frequency of repeat borrowing \n",
    "pd.pivot_table(loans, index=['repeat_borrowing'], values=['Loan_Outstanding'], aggfunc=np.sum).sort_values('Loan_Outstanding', ascending=False)"
   ]
  },
  {
   "cell_type": "code",
   "execution_count": 26,
   "metadata": {},
   "outputs": [
    {
     "data": {
      "image/png": "[encoded data removed]",
      "text/plain": [
       "<Figure size 432x288 with 1 Axes>"
      ]
     },
     "metadata": {
      "needs_background": "light"
     },
     "output_type": "display_data"
    }
   ],
   "source": [
    "loans.groupby('repeat_borrowing')['Loan_Outstanding'].sum().plot()\n",
    "plt.ylabel('Loan Outstanding')\n",
    "plt.title('Loan Outstanding per frequency of repeat borrowing')\n",
    "plt.show()"
   ]
  },
  {
   "cell_type": "markdown",
   "metadata": {},
   "source": [
    "## First applicants have the highest outstanding amount.\n",
    "## Outstanding amounts decrease as frequency of repeat borrowing increase."
   ]
  },
  {
   "cell_type": "code",
   "execution_count": null,
   "metadata": {},
   "outputs": [],
   "source": []
  },
  {
   "cell_type": "code",
   "execution_count": 27,
   "metadata": {
    "colab": {
     "base_uri": "https://localhost:8080/",
     "height": 328
    },
    "colab_type": "code",
    "id": "uOpf93_zpoSc",
    "outputId": "784c2a16-911f-494e-e141-b355ebd669c0"
   },
   "outputs": [
    {
     "data": {
      "text/html": [
       "<div>\n",
       "<style scoped>\n",
       "    .dataframe tbody tr th:only-of-type {\n",
       "        vertical-align: middle;\n",
       "    }\n",
       "\n",
       "    .dataframe tbody tr th {\n",
       "        vertical-align: top;\n",
       "    }\n",
       "\n",
       "    .dataframe thead th {\n",
       "        text-align: right;\n",
       "    }\n",
       "</style>\n",
       "<table border=\"1\" class=\"dataframe\">\n",
       "  <thead>\n",
       "    <tr style=\"text-align: right;\">\n",
       "      <th></th>\n",
       "      <th>Loan_Outstanding</th>\n",
       "    </tr>\n",
       "    <tr>\n",
       "      <th>Product</th>\n",
       "      <th></th>\n",
       "    </tr>\n",
       "  </thead>\n",
       "  <tbody>\n",
       "    <tr>\n",
       "      <th>New Ngorika Agri Loan</th>\n",
       "      <td>64638400.64</td>\n",
       "    </tr>\n",
       "    <tr>\n",
       "      <th>Jenga Biashara</th>\n",
       "      <td>44437546.02</td>\n",
       "    </tr>\n",
       "    <tr>\n",
       "      <th>Inua Biashara</th>\n",
       "      <td>17597380.01</td>\n",
       "    </tr>\n",
       "    <tr>\n",
       "      <th>Dumisha Biashara</th>\n",
       "      <td>16433900.63</td>\n",
       "    </tr>\n",
       "    <tr>\n",
       "      <th>Ndonyo Njeru Agri Loan</th>\n",
       "      <td>4069546.00</td>\n",
       "    </tr>\n",
       "    <tr>\n",
       "      <th>New Ngorika Capacity Loan</th>\n",
       "      <td>2508338.23</td>\n",
       "    </tr>\n",
       "    <tr>\n",
       "      <th>Inua Biashara Post Paid (10%)</th>\n",
       "      <td>0.00</td>\n",
       "    </tr>\n",
       "    <tr>\n",
       "      <th>Inua Biashara Post Paid (15%)</th>\n",
       "      <td>0.00</td>\n",
       "    </tr>\n",
       "  </tbody>\n",
       "</table>\n",
       "</div>"
      ],
      "text/plain": [
       "                               Loan_Outstanding\n",
       "Product                                        \n",
       "New Ngorika Agri Loan               64638400.64\n",
       "Jenga Biashara                      44437546.02\n",
       "Inua Biashara                       17597380.01\n",
       "Dumisha Biashara                    16433900.63\n",
       "Ndonyo Njeru Agri Loan               4069546.00\n",
       "New Ngorika Capacity Loan            2508338.23\n",
       "Inua Biashara Post Paid (10%)              0.00\n",
       "Inua Biashara Post Paid (15%)              0.00"
      ]
     },
     "execution_count": 27,
     "metadata": {},
     "output_type": "execute_result"
    }
   ],
   "source": [
    "# Total outstanding amount per product\n",
    "pd.pivot_table(loans, index=['Product'], values=['Loan_Outstanding'], aggfunc=np.sum).sort_values('Loan_Outstanding', ascending=False)"
   ]
  },
  {
   "cell_type": "code",
   "execution_count": 28,
   "metadata": {
    "colab": {
     "base_uri": "https://localhost:8080/",
     "height": 359
    },
    "colab_type": "code",
    "id": "kImYG8i5vJxI",
    "outputId": "ced7bb40-1fd0-46ce-954d-c31bee86dc17",
    "scrolled": true
   },
   "outputs": [
    {
     "data": {
      "text/html": [
       "<div>\n",
       "<style scoped>\n",
       "    .dataframe tbody tr th:only-of-type {\n",
       "        vertical-align: middle;\n",
       "    }\n",
       "\n",
       "    .dataframe tbody tr th {\n",
       "        vertical-align: top;\n",
       "    }\n",
       "\n",
       "    .dataframe thead th {\n",
       "        text-align: right;\n",
       "    }\n",
       "</style>\n",
       "<table border=\"1\" class=\"dataframe\">\n",
       "  <thead>\n",
       "    <tr style=\"text-align: right;\">\n",
       "      <th></th>\n",
       "      <th>Interest_Repaid</th>\n",
       "      <th>Principal_Repaid</th>\n",
       "    </tr>\n",
       "    <tr>\n",
       "      <th>Product</th>\n",
       "      <th></th>\n",
       "      <th></th>\n",
       "    </tr>\n",
       "  </thead>\n",
       "  <tbody>\n",
       "    <tr>\n",
       "      <th>Dumisha Biashara</th>\n",
       "      <td>3.522096e+07</td>\n",
       "      <td>1.201668e+08</td>\n",
       "    </tr>\n",
       "    <tr>\n",
       "      <th>Inua Biashara</th>\n",
       "      <td>0.000000e+00</td>\n",
       "      <td>2.297991e+08</td>\n",
       "    </tr>\n",
       "    <tr>\n",
       "      <th>Inua Biashara Post Paid (10%)</th>\n",
       "      <td>3.419999e+04</td>\n",
       "      <td>3.420000e+05</td>\n",
       "    </tr>\n",
       "    <tr>\n",
       "      <th>Inua Biashara Post Paid (15%)</th>\n",
       "      <td>7.602000e+05</td>\n",
       "      <td>5.068000e+06</td>\n",
       "    </tr>\n",
       "    <tr>\n",
       "      <th>Jenga Biashara</th>\n",
       "      <td>7.091171e+07</td>\n",
       "      <td>2.979810e+08</td>\n",
       "    </tr>\n",
       "    <tr>\n",
       "      <th>Ndonyo Njeru Agri Loan</th>\n",
       "      <td>2.628927e+05</td>\n",
       "      <td>1.011394e+06</td>\n",
       "    </tr>\n",
       "    <tr>\n",
       "      <th>New Ngorika Agri Loan</th>\n",
       "      <td>5.728928e+06</td>\n",
       "      <td>3.328273e+07</td>\n",
       "    </tr>\n",
       "    <tr>\n",
       "      <th>New Ngorika Capacity Loan</th>\n",
       "      <td>8.782828e+05</td>\n",
       "      <td>3.367473e+06</td>\n",
       "    </tr>\n",
       "    <tr>\n",
       "      <th>All</th>\n",
       "      <td>1.137972e+08</td>\n",
       "      <td>6.910184e+08</td>\n",
       "    </tr>\n",
       "  </tbody>\n",
       "</table>\n",
       "</div>"
      ],
      "text/plain": [
       "                               Interest_Repaid  Principal_Repaid\n",
       "Product                                                         \n",
       "Dumisha Biashara                  3.522096e+07      1.201668e+08\n",
       "Inua Biashara                     0.000000e+00      2.297991e+08\n",
       "Inua Biashara Post Paid (10%)     3.419999e+04      3.420000e+05\n",
       "Inua Biashara Post Paid (15%)     7.602000e+05      5.068000e+06\n",
       "Jenga Biashara                    7.091171e+07      2.979810e+08\n",
       "Ndonyo Njeru Agri Loan            2.628927e+05      1.011394e+06\n",
       "New Ngorika Agri Loan             5.728928e+06      3.328273e+07\n",
       "New Ngorika Capacity Loan         8.782828e+05      3.367473e+06\n",
       "All                               1.137972e+08      6.910184e+08"
      ]
     },
     "execution_count": 28,
     "metadata": {},
     "output_type": "execute_result"
    }
   ],
   "source": [
    "# principal and interest repaid per product\n",
    "pd.pivot_table(loans, index=['Product'], values=['Principal_Repaid', 'Interest_Repaid'], aggfunc=np.sum, margins=True)"
   ]
  },
  {
   "cell_type": "code",
   "execution_count": 29,
   "metadata": {
    "scrolled": true
   },
   "outputs": [
    {
     "data": {
      "text/html": [
       "<div>\n",
       "<style scoped>\n",
       "    .dataframe tbody tr th:only-of-type {\n",
       "        vertical-align: middle;\n",
       "    }\n",
       "\n",
       "    .dataframe tbody tr th {\n",
       "        vertical-align: top;\n",
       "    }\n",
       "\n",
       "    .dataframe thead th {\n",
       "        text-align: right;\n",
       "    }\n",
       "</style>\n",
       "<table border=\"1\" class=\"dataframe\">\n",
       "  <thead>\n",
       "    <tr style=\"text-align: right;\">\n",
       "      <th></th>\n",
       "      <th>Penalties_Charged</th>\n",
       "    </tr>\n",
       "    <tr>\n",
       "      <th>Product</th>\n",
       "      <th></th>\n",
       "    </tr>\n",
       "  </thead>\n",
       "  <tbody>\n",
       "    <tr>\n",
       "      <th>Ndonyo Njeru Agri Loan</th>\n",
       "      <td>0.000000e+00</td>\n",
       "    </tr>\n",
       "    <tr>\n",
       "      <th>New Ngorika Capacity Loan</th>\n",
       "      <td>0.000000e+00</td>\n",
       "    </tr>\n",
       "    <tr>\n",
       "      <th>Inua Biashara Post Paid (10%)</th>\n",
       "      <td>2.162500e+04</td>\n",
       "    </tr>\n",
       "    <tr>\n",
       "      <th>Inua Biashara Post Paid (15%)</th>\n",
       "      <td>2.479390e+05</td>\n",
       "    </tr>\n",
       "    <tr>\n",
       "      <th>New Ngorika Agri Loan</th>\n",
       "      <td>6.779000e+05</td>\n",
       "    </tr>\n",
       "    <tr>\n",
       "      <th>Dumisha Biashara</th>\n",
       "      <td>2.028453e+07</td>\n",
       "    </tr>\n",
       "    <tr>\n",
       "      <th>Inua Biashara</th>\n",
       "      <td>6.048014e+07</td>\n",
       "    </tr>\n",
       "    <tr>\n",
       "      <th>Jenga Biashara</th>\n",
       "      <td>9.713424e+07</td>\n",
       "    </tr>\n",
       "    <tr>\n",
       "      <th>All</th>\n",
       "      <td>1.788464e+08</td>\n",
       "    </tr>\n",
       "  </tbody>\n",
       "</table>\n",
       "</div>"
      ],
      "text/plain": [
       "                               Penalties_Charged\n",
       "Product                                         \n",
       "Ndonyo Njeru Agri Loan              0.000000e+00\n",
       "New Ngorika Capacity Loan           0.000000e+00\n",
       "Inua Biashara Post Paid (10%)       2.162500e+04\n",
       "Inua Biashara Post Paid (15%)       2.479390e+05\n",
       "New Ngorika Agri Loan               6.779000e+05\n",
       "Dumisha Biashara                    2.028453e+07\n",
       "Inua Biashara                       6.048014e+07\n",
       "Jenga Biashara                      9.713424e+07\n",
       "All                                 1.788464e+08"
      ]
     },
     "execution_count": 29,
     "metadata": {},
     "output_type": "execute_result"
    }
   ],
   "source": [
    "pd.pivot_table(loans, index=['Product'], values=['Penalties_Charged'], aggfunc=np.sum, margins=True).sort_values('Penalties_Charged', ascending=True)"
   ]
  },
  {
   "cell_type": "code",
   "execution_count": 30,
   "metadata": {},
   "outputs": [
    {
     "data": {
      "text/html": [
       "<div>\n",
       "<style scoped>\n",
       "    .dataframe tbody tr th:only-of-type {\n",
       "        vertical-align: middle;\n",
       "    }\n",
       "\n",
       "    .dataframe tbody tr th {\n",
       "        vertical-align: top;\n",
       "    }\n",
       "\n",
       "    .dataframe thead th {\n",
       "        text-align: right;\n",
       "    }\n",
       "</style>\n",
       "<table border=\"1\" class=\"dataframe\">\n",
       "  <thead>\n",
       "    <tr style=\"text-align: right;\">\n",
       "      <th></th>\n",
       "      <th>Penalties_Outstanding</th>\n",
       "    </tr>\n",
       "    <tr>\n",
       "      <th>Product</th>\n",
       "      <th></th>\n",
       "    </tr>\n",
       "  </thead>\n",
       "  <tbody>\n",
       "    <tr>\n",
       "      <th>Ndonyo Njeru Agri Loan</th>\n",
       "      <td>0.000000e+00</td>\n",
       "    </tr>\n",
       "    <tr>\n",
       "      <th>New Ngorika Capacity Loan</th>\n",
       "      <td>0.000000e+00</td>\n",
       "    </tr>\n",
       "    <tr>\n",
       "      <th>Inua Biashara Post Paid (10%)</th>\n",
       "      <td>1.277500e+04</td>\n",
       "    </tr>\n",
       "    <tr>\n",
       "      <th>Inua Biashara Post Paid (15%)</th>\n",
       "      <td>1.072500e+05</td>\n",
       "    </tr>\n",
       "    <tr>\n",
       "      <th>New Ngorika Agri Loan</th>\n",
       "      <td>3.802484e+05</td>\n",
       "    </tr>\n",
       "    <tr>\n",
       "      <th>Dumisha Biashara</th>\n",
       "      <td>1.285924e+07</td>\n",
       "    </tr>\n",
       "    <tr>\n",
       "      <th>Inua Biashara</th>\n",
       "      <td>4.971268e+07</td>\n",
       "    </tr>\n",
       "    <tr>\n",
       "      <th>Jenga Biashara</th>\n",
       "      <td>7.565377e+07</td>\n",
       "    </tr>\n",
       "    <tr>\n",
       "      <th>All</th>\n",
       "      <td>1.387260e+08</td>\n",
       "    </tr>\n",
       "  </tbody>\n",
       "</table>\n",
       "</div>"
      ],
      "text/plain": [
       "                               Penalties_Outstanding\n",
       "Product                                             \n",
       "Ndonyo Njeru Agri Loan                  0.000000e+00\n",
       "New Ngorika Capacity Loan               0.000000e+00\n",
       "Inua Biashara Post Paid (10%)           1.277500e+04\n",
       "Inua Biashara Post Paid (15%)           1.072500e+05\n",
       "New Ngorika Agri Loan                   3.802484e+05\n",
       "Dumisha Biashara                        1.285924e+07\n",
       "Inua Biashara                           4.971268e+07\n",
       "Jenga Biashara                          7.565377e+07\n",
       "All                                     1.387260e+08"
      ]
     },
     "execution_count": 30,
     "metadata": {},
     "output_type": "execute_result"
    }
   ],
   "source": [
    "# Penalties outstanding per product\n",
    "pd.pivot_table(loans, index=['Product'], values=['Penalties_Outstanding'], aggfunc=np.sum, margins=True).sort_values('Penalties_Outstanding', ascending=True)"
   ]
  },
  {
   "cell_type": "code",
   "execution_count": 31,
   "metadata": {},
   "outputs": [
    {
     "data": {
      "text/plain": [
       "44933"
      ]
     },
     "execution_count": 31,
     "metadata": {},
     "output_type": "execute_result"
    }
   ],
   "source": [
    "# successful loans\n",
    "successful_loans=loans[(loans['Loan_Status']!='Rejected') & (loans['Loan_Status']!='Not Approved')]\n",
    "len(successful_loans)"
   ]
  },
  {
   "cell_type": "code",
   "execution_count": 32,
   "metadata": {},
   "outputs": [
    {
     "data": {
      "text/plain": [
       "<matplotlib.axes._subplots.AxesSubplot at 0x1a26d24d50>"
      ]
     },
     "execution_count": 32,
     "metadata": {},
     "output_type": "execute_result"
    },
    {
     "data": {
      "image/png": "[encoded data removed]",
      "text/plain": [
       "<Figure size 432x288 with 1 Axes>"
      ]
     },
     "metadata": {
      "needs_background": "light"
     },
     "output_type": "display_data"
    }
   ],
   "source": [
    "# loan status per product for successful accounts\n",
    "sns.countplot(y='Product', hue='Loan_Status', data=successful_loans)"
   ]
  },
  {
   "cell_type": "code",
   "execution_count": 33,
   "metadata": {},
   "outputs": [
    {
     "data": {
      "text/html": [
       "<div>\n",
       "<style scoped>\n",
       "    .dataframe tbody tr th:only-of-type {\n",
       "        vertical-align: middle;\n",
       "    }\n",
       "\n",
       "    .dataframe tbody tr th {\n",
       "        vertical-align: top;\n",
       "    }\n",
       "\n",
       "    .dataframe thead th {\n",
       "        text-align: right;\n",
       "    }\n",
       "</style>\n",
       "<table border=\"1\" class=\"dataframe\">\n",
       "  <thead>\n",
       "    <tr style=\"text-align: right;\">\n",
       "      <th></th>\n",
       "      <th>Loan_Outstanding</th>\n",
       "    </tr>\n",
       "    <tr>\n",
       "      <th>Product</th>\n",
       "      <th></th>\n",
       "    </tr>\n",
       "  </thead>\n",
       "  <tbody>\n",
       "    <tr>\n",
       "      <th>New Ngorika Agri Loan</th>\n",
       "      <td>64638400.64</td>\n",
       "    </tr>\n",
       "    <tr>\n",
       "      <th>Jenga Biashara</th>\n",
       "      <td>44437546.02</td>\n",
       "    </tr>\n",
       "    <tr>\n",
       "      <th>Inua Biashara</th>\n",
       "      <td>17597380.01</td>\n",
       "    </tr>\n",
       "    <tr>\n",
       "      <th>Dumisha Biashara</th>\n",
       "      <td>16433900.63</td>\n",
       "    </tr>\n",
       "    <tr>\n",
       "      <th>Ndonyo Njeru Agri Loan</th>\n",
       "      <td>4069546.00</td>\n",
       "    </tr>\n",
       "    <tr>\n",
       "      <th>New Ngorika Capacity Loan</th>\n",
       "      <td>2508338.23</td>\n",
       "    </tr>\n",
       "    <tr>\n",
       "      <th>Inua Biashara Post Paid (10%)</th>\n",
       "      <td>0.00</td>\n",
       "    </tr>\n",
       "    <tr>\n",
       "      <th>Inua Biashara Post Paid (15%)</th>\n",
       "      <td>0.00</td>\n",
       "    </tr>\n",
       "  </tbody>\n",
       "</table>\n",
       "</div>"
      ],
      "text/plain": [
       "                               Loan_Outstanding\n",
       "Product                                        \n",
       "New Ngorika Agri Loan               64638400.64\n",
       "Jenga Biashara                      44437546.02\n",
       "Inua Biashara                       17597380.01\n",
       "Dumisha Biashara                    16433900.63\n",
       "Ndonyo Njeru Agri Loan               4069546.00\n",
       "New Ngorika Capacity Loan            2508338.23\n",
       "Inua Biashara Post Paid (10%)              0.00\n",
       "Inua Biashara Post Paid (15%)              0.00"
      ]
     },
     "execution_count": 33,
     "metadata": {},
     "output_type": "execute_result"
    }
   ],
   "source": [
    "# outstanding amounts per successful loans\n",
    "pd.pivot_table(successful_loans, index=['Product'], values=['Loan_Outstanding'], aggfunc=np.sum).sort_values('Loan_Outstanding', ascending=False)"
   ]
  },
  {
   "cell_type": "code",
   "execution_count": 34,
   "metadata": {},
   "outputs": [
    {
     "data": {
      "text/html": [
       "<div>\n",
       "<style scoped>\n",
       "    .dataframe tbody tr th:only-of-type {\n",
       "        vertical-align: middle;\n",
       "    }\n",
       "\n",
       "    .dataframe tbody tr th {\n",
       "        vertical-align: top;\n",
       "    }\n",
       "\n",
       "    .dataframe thead th {\n",
       "        text-align: right;\n",
       "    }\n",
       "</style>\n",
       "<table border=\"1\" class=\"dataframe\">\n",
       "  <thead>\n",
       "    <tr style=\"text-align: right;\">\n",
       "      <th></th>\n",
       "      <th>Penalties_Outstanding</th>\n",
       "    </tr>\n",
       "    <tr>\n",
       "      <th>Product</th>\n",
       "      <th></th>\n",
       "    </tr>\n",
       "  </thead>\n",
       "  <tbody>\n",
       "    <tr>\n",
       "      <th>Jenga Biashara</th>\n",
       "      <td>75653774.64</td>\n",
       "    </tr>\n",
       "    <tr>\n",
       "      <th>Inua Biashara</th>\n",
       "      <td>49712680.00</td>\n",
       "    </tr>\n",
       "    <tr>\n",
       "      <th>Dumisha Biashara</th>\n",
       "      <td>12859236.26</td>\n",
       "    </tr>\n",
       "    <tr>\n",
       "      <th>New Ngorika Agri Loan</th>\n",
       "      <td>380248.37</td>\n",
       "    </tr>\n",
       "    <tr>\n",
       "      <th>Inua Biashara Post Paid (15%)</th>\n",
       "      <td>107250.00</td>\n",
       "    </tr>\n",
       "    <tr>\n",
       "      <th>Inua Biashara Post Paid (10%)</th>\n",
       "      <td>12775.00</td>\n",
       "    </tr>\n",
       "    <tr>\n",
       "      <th>Ndonyo Njeru Agri Loan</th>\n",
       "      <td>0.00</td>\n",
       "    </tr>\n",
       "    <tr>\n",
       "      <th>New Ngorika Capacity Loan</th>\n",
       "      <td>0.00</td>\n",
       "    </tr>\n",
       "  </tbody>\n",
       "</table>\n",
       "</div>"
      ],
      "text/plain": [
       "                               Penalties_Outstanding\n",
       "Product                                             \n",
       "Jenga Biashara                           75653774.64\n",
       "Inua Biashara                            49712680.00\n",
       "Dumisha Biashara                         12859236.26\n",
       "New Ngorika Agri Loan                      380248.37\n",
       "Inua Biashara Post Paid (15%)              107250.00\n",
       "Inua Biashara Post Paid (10%)               12775.00\n",
       "Ndonyo Njeru Agri Loan                          0.00\n",
       "New Ngorika Capacity Loan                       0.00"
      ]
     },
     "execution_count": 34,
     "metadata": {},
     "output_type": "execute_result"
    }
   ],
   "source": [
    "# outstanding penalties per successful loans\n",
    "pd.pivot_table(loans, index=['Product'], values=['Penalties_Outstanding'], aggfunc=np.sum).sort_values('Penalties_Outstanding', ascending=False)"
   ]
  },
  {
   "cell_type": "code",
   "execution_count": 35,
   "metadata": {
    "scrolled": true
   },
   "outputs": [
    {
     "data": {
      "text/plain": [
       "15109"
      ]
     },
     "execution_count": 35,
     "metadata": {},
     "output_type": "execute_result"
    }
   ],
   "source": [
    "# on time payments: accounts with penalty charged equal to zero\n",
    "otp = successful_loans[successful_loans['Penalties_Charged']==0]\n",
    "len(otp)"
   ]
  },
  {
   "cell_type": "code",
   "execution_count": 36,
   "metadata": {
    "scrolled": true
   },
   "outputs": [
    {
     "data": {
      "text/html": [
       "<div>\n",
       "<style scoped>\n",
       "    .dataframe tbody tr th:only-of-type {\n",
       "        vertical-align: middle;\n",
       "    }\n",
       "\n",
       "    .dataframe tbody tr th {\n",
       "        vertical-align: top;\n",
       "    }\n",
       "\n",
       "    .dataframe thead th {\n",
       "        text-align: right;\n",
       "    }\n",
       "</style>\n",
       "<table border=\"1\" class=\"dataframe\">\n",
       "  <thead>\n",
       "    <tr style=\"text-align: right;\">\n",
       "      <th></th>\n",
       "      <th>Loan_ID</th>\n",
       "      <th>Client_ID</th>\n",
       "      <th>Product_ID</th>\n",
       "      <th>Product</th>\n",
       "      <th>Status_ID</th>\n",
       "      <th>Loan_Status</th>\n",
       "      <th>Principal</th>\n",
       "      <th>Interest</th>\n",
       "      <th>Repayments</th>\n",
       "      <th>Date_Disbursed</th>\n",
       "      <th>...</th>\n",
       "      <th>Principal_Outstanding</th>\n",
       "      <th>Interest_Repaid</th>\n",
       "      <th>Interest_Outstanding</th>\n",
       "      <th>Loan_Outstanding</th>\n",
       "      <th>Penalties_Charged</th>\n",
       "      <th>Penalties_Paid</th>\n",
       "      <th>Penalties_Waived</th>\n",
       "      <th>Penalties_Outstanding</th>\n",
       "      <th>repeat_borrowing</th>\n",
       "      <th>check_dates</th>\n",
       "    </tr>\n",
       "  </thead>\n",
       "  <tbody>\n",
       "    <tr>\n",
       "      <th>5</th>\n",
       "      <td>6</td>\n",
       "      <td>10</td>\n",
       "      <td>3</td>\n",
       "      <td>Inua Biashara</td>\n",
       "      <td>600</td>\n",
       "      <td>Closed</td>\n",
       "      <td>15000</td>\n",
       "      <td>0.0</td>\n",
       "      <td>4</td>\n",
       "      <td>2015-01-16</td>\n",
       "      <td>...</td>\n",
       "      <td>0.0</td>\n",
       "      <td>0.0</td>\n",
       "      <td>0.0</td>\n",
       "      <td>0.0</td>\n",
       "      <td>0.0</td>\n",
       "      <td>0.0</td>\n",
       "      <td>0.0</td>\n",
       "      <td>0.0</td>\n",
       "      <td>2</td>\n",
       "      <td>right</td>\n",
       "    </tr>\n",
       "    <tr>\n",
       "      <th>6</th>\n",
       "      <td>7</td>\n",
       "      <td>11</td>\n",
       "      <td>3</td>\n",
       "      <td>Inua Biashara</td>\n",
       "      <td>600</td>\n",
       "      <td>Closed</td>\n",
       "      <td>20000</td>\n",
       "      <td>0.0</td>\n",
       "      <td>4</td>\n",
       "      <td>2015-01-16</td>\n",
       "      <td>...</td>\n",
       "      <td>0.0</td>\n",
       "      <td>0.0</td>\n",
       "      <td>0.0</td>\n",
       "      <td>0.0</td>\n",
       "      <td>0.0</td>\n",
       "      <td>0.0</td>\n",
       "      <td>0.0</td>\n",
       "      <td>0.0</td>\n",
       "      <td>2</td>\n",
       "      <td>right</td>\n",
       "    </tr>\n",
       "    <tr>\n",
       "      <th>9</th>\n",
       "      <td>10</td>\n",
       "      <td>14</td>\n",
       "      <td>3</td>\n",
       "      <td>Inua Biashara</td>\n",
       "      <td>600</td>\n",
       "      <td>Closed</td>\n",
       "      <td>15000</td>\n",
       "      <td>0.0</td>\n",
       "      <td>4</td>\n",
       "      <td>2015-01-20</td>\n",
       "      <td>...</td>\n",
       "      <td>0.0</td>\n",
       "      <td>0.0</td>\n",
       "      <td>0.0</td>\n",
       "      <td>0.0</td>\n",
       "      <td>0.0</td>\n",
       "      <td>0.0</td>\n",
       "      <td>0.0</td>\n",
       "      <td>0.0</td>\n",
       "      <td>4</td>\n",
       "      <td>right</td>\n",
       "    </tr>\n",
       "  </tbody>\n",
       "</table>\n",
       "<p>3 rows × 24 columns</p>\n",
       "</div>"
      ],
      "text/plain": [
       "   Loan_ID  Client_ID  Product_ID        Product  Status_ID Loan_Status  \\\n",
       "5        6         10           3  Inua Biashara        600      Closed   \n",
       "6        7         11           3  Inua Biashara        600      Closed   \n",
       "9       10         14           3  Inua Biashara        600      Closed   \n",
       "\n",
       "   Principal  Interest  Repayments Date_Disbursed  ... Principal_Outstanding  \\\n",
       "5      15000       0.0           4     2015-01-16  ...                   0.0   \n",
       "6      20000       0.0           4     2015-01-16  ...                   0.0   \n",
       "9      15000       0.0           4     2015-01-20  ...                   0.0   \n",
       "\n",
       "  Interest_Repaid Interest_Outstanding  Loan_Outstanding  Penalties_Charged  \\\n",
       "5             0.0                  0.0               0.0                0.0   \n",
       "6             0.0                  0.0               0.0                0.0   \n",
       "9             0.0                  0.0               0.0                0.0   \n",
       "\n",
       "   Penalties_Paid  Penalties_Waived  Penalties_Outstanding  repeat_borrowing  \\\n",
       "5             0.0               0.0                    0.0                 2   \n",
       "6             0.0               0.0                    0.0                 2   \n",
       "9             0.0               0.0                    0.0                 4   \n",
       "\n",
       "   check_dates  \n",
       "5        right  \n",
       "6        right  \n",
       "9        right  \n",
       "\n",
       "[3 rows x 24 columns]"
      ]
     },
     "execution_count": 36,
     "metadata": {},
     "output_type": "execute_result"
    }
   ],
   "source": [
    "otp.head(3)"
   ]
  },
  {
   "cell_type": "code",
   "execution_count": 37,
   "metadata": {},
   "outputs": [
    {
     "data": {
      "text/plain": [
       "Inua Biashara                    8468\n",
       "Jenga Biashara                   4972\n",
       "New Ngorika Agri Loan             868\n",
       "Dumisha Biashara                  725\n",
       "Ndonyo Njeru Agri Loan             40\n",
       "Inua Biashara Post Paid (15%)      27\n",
       "Inua Biashara Post Paid (10%)       5\n",
       "New Ngorika Capacity Loan           4\n",
       "Name: Product, dtype: int64"
      ]
     },
     "execution_count": 37,
     "metadata": {},
     "output_type": "execute_result"
    }
   ],
   "source": [
    "otp['Product'].value_counts()"
   ]
  },
  {
   "cell_type": "code",
   "execution_count": 38,
   "metadata": {},
   "outputs": [
    {
     "data": {
      "text/plain": [
       "<matplotlib.axes._subplots.AxesSubplot at 0x1a26a74dd0>"
      ]
     },
     "execution_count": 38,
     "metadata": {},
     "output_type": "execute_result"
    },
    {
     "data": {
      "image/png": "[encoded data removed]",
      "text/plain": [
       "<Figure size 432x288 with 1 Axes>"
      ]
     },
     "metadata": {
      "needs_background": "light"
     },
     "output_type": "display_data"
    }
   ],
   "source": [
    "# loan status pe rproduct for otp accounts\n",
    "sns.countplot(y='Product', hue='Loan_Status', data=otp)"
   ]
  },
  {
   "cell_type": "code",
   "execution_count": 39,
   "metadata": {
    "colab": {
     "base_uri": "https://localhost:8080/",
     "height": 34
    },
    "colab_type": "code",
    "id": "YG1LfKlIKBTj",
    "outputId": "6bcdcd66-0cd6-4b24-b4c9-d60f61edb2e7"
   },
   "outputs": [
    {
     "data": {
      "text/plain": [
       "2409"
      ]
     },
     "execution_count": 39,
     "metadata": {},
     "output_type": "execute_result"
    }
   ],
   "source": [
    "#unsuccessful loans\n",
    "unsuccessful_loans=loans[(loans['Loan_Status']=='Rejected') | (loans['Loan_Status']=='Not Approved')]\n",
    "len(unsuccessful_loans)"
   ]
  },
  {
   "cell_type": "code",
   "execution_count": 40,
   "metadata": {
    "scrolled": true
   },
   "outputs": [
    {
     "data": {
      "text/html": [
       "<div>\n",
       "<style scoped>\n",
       "    .dataframe tbody tr th:only-of-type {\n",
       "        vertical-align: middle;\n",
       "    }\n",
       "\n",
       "    .dataframe tbody tr th {\n",
       "        vertical-align: top;\n",
       "    }\n",
       "\n",
       "    .dataframe thead th {\n",
       "        text-align: right;\n",
       "    }\n",
       "</style>\n",
       "<table border=\"1\" class=\"dataframe\">\n",
       "  <thead>\n",
       "    <tr style=\"text-align: right;\">\n",
       "      <th></th>\n",
       "      <th>Loan_ID</th>\n",
       "      <th>Client_ID</th>\n",
       "      <th>Product_ID</th>\n",
       "      <th>Product</th>\n",
       "      <th>Status_ID</th>\n",
       "      <th>Loan_Status</th>\n",
       "      <th>Principal</th>\n",
       "      <th>Interest</th>\n",
       "      <th>Repayments</th>\n",
       "      <th>Date_Disbursed</th>\n",
       "      <th>...</th>\n",
       "      <th>Principal_Outstanding</th>\n",
       "      <th>Interest_Repaid</th>\n",
       "      <th>Interest_Outstanding</th>\n",
       "      <th>Loan_Outstanding</th>\n",
       "      <th>Penalties_Charged</th>\n",
       "      <th>Penalties_Paid</th>\n",
       "      <th>Penalties_Waived</th>\n",
       "      <th>Penalties_Outstanding</th>\n",
       "      <th>repeat_borrowing</th>\n",
       "      <th>check_dates</th>\n",
       "    </tr>\n",
       "  </thead>\n",
       "  <tbody>\n",
       "    <tr>\n",
       "      <th>0</th>\n",
       "      <td>1</td>\n",
       "      <td>2</td>\n",
       "      <td>3</td>\n",
       "      <td>Inua Biashara</td>\n",
       "      <td>500</td>\n",
       "      <td>Rejected</td>\n",
       "      <td>0</td>\n",
       "      <td>0.0</td>\n",
       "      <td>4</td>\n",
       "      <td>NaT</td>\n",
       "      <td>...</td>\n",
       "      <td>0.0</td>\n",
       "      <td>0.0</td>\n",
       "      <td>0.0</td>\n",
       "      <td>0.0</td>\n",
       "      <td>0.0</td>\n",
       "      <td>0.0</td>\n",
       "      <td>0.0</td>\n",
       "      <td>0.0</td>\n",
       "      <td>5</td>\n",
       "      <td>wrong</td>\n",
       "    </tr>\n",
       "    <tr>\n",
       "      <th>1</th>\n",
       "      <td>2</td>\n",
       "      <td>3</td>\n",
       "      <td>1</td>\n",
       "      <td>Jenga Biashara</td>\n",
       "      <td>500</td>\n",
       "      <td>Rejected</td>\n",
       "      <td>0</td>\n",
       "      <td>0.0</td>\n",
       "      <td>8</td>\n",
       "      <td>NaT</td>\n",
       "      <td>...</td>\n",
       "      <td>0.0</td>\n",
       "      <td>0.0</td>\n",
       "      <td>0.0</td>\n",
       "      <td>0.0</td>\n",
       "      <td>0.0</td>\n",
       "      <td>0.0</td>\n",
       "      <td>0.0</td>\n",
       "      <td>0.0</td>\n",
       "      <td>19</td>\n",
       "      <td>wrong</td>\n",
       "    </tr>\n",
       "  </tbody>\n",
       "</table>\n",
       "<p>2 rows × 24 columns</p>\n",
       "</div>"
      ],
      "text/plain": [
       "   Loan_ID  Client_ID  Product_ID         Product  Status_ID Loan_Status  \\\n",
       "0        1          2           3   Inua Biashara        500    Rejected   \n",
       "1        2          3           1  Jenga Biashara        500    Rejected   \n",
       "\n",
       "   Principal  Interest  Repayments Date_Disbursed  ... Principal_Outstanding  \\\n",
       "0          0       0.0           4            NaT  ...                   0.0   \n",
       "1          0       0.0           8            NaT  ...                   0.0   \n",
       "\n",
       "  Interest_Repaid Interest_Outstanding  Loan_Outstanding  Penalties_Charged  \\\n",
       "0             0.0                  0.0               0.0                0.0   \n",
       "1             0.0                  0.0               0.0                0.0   \n",
       "\n",
       "   Penalties_Paid  Penalties_Waived  Penalties_Outstanding  repeat_borrowing  \\\n",
       "0             0.0               0.0                    0.0                 5   \n",
       "1             0.0               0.0                    0.0                19   \n",
       "\n",
       "   check_dates  \n",
       "0        wrong  \n",
       "1        wrong  \n",
       "\n",
       "[2 rows x 24 columns]"
      ]
     },
     "execution_count": 40,
     "metadata": {},
     "output_type": "execute_result"
    }
   ],
   "source": [
    "# sample data for unsuccessful loans\n",
    "unsuccessful_loans.head(2)"
   ]
  },
  {
   "cell_type": "code",
   "execution_count": 41,
   "metadata": {},
   "outputs": [
    {
     "data": {
      "text/html": [
       "<div>\n",
       "<style scoped>\n",
       "    .dataframe tbody tr th:only-of-type {\n",
       "        vertical-align: middle;\n",
       "    }\n",
       "\n",
       "    .dataframe tbody tr th {\n",
       "        vertical-align: top;\n",
       "    }\n",
       "\n",
       "    .dataframe thead th {\n",
       "        text-align: right;\n",
       "    }\n",
       "</style>\n",
       "<table border=\"1\" class=\"dataframe\">\n",
       "  <thead>\n",
       "    <tr style=\"text-align: right;\">\n",
       "      <th></th>\n",
       "      <th>count</th>\n",
       "      <th>mean</th>\n",
       "      <th>std</th>\n",
       "      <th>min</th>\n",
       "      <th>25%</th>\n",
       "      <th>50%</th>\n",
       "      <th>75%</th>\n",
       "      <th>max</th>\n",
       "    </tr>\n",
       "  </thead>\n",
       "  <tbody>\n",
       "    <tr>\n",
       "      <th>Principal</th>\n",
       "      <td>2409.0</td>\n",
       "      <td>0.000000</td>\n",
       "      <td>0.000000</td>\n",
       "      <td>0.0</td>\n",
       "      <td>0.0</td>\n",
       "      <td>0.0</td>\n",
       "      <td>0.0</td>\n",
       "      <td>0.0</td>\n",
       "    </tr>\n",
       "    <tr>\n",
       "      <th>Interest</th>\n",
       "      <td>2409.0</td>\n",
       "      <td>0.000000</td>\n",
       "      <td>0.000000</td>\n",
       "      <td>0.0</td>\n",
       "      <td>0.0</td>\n",
       "      <td>0.0</td>\n",
       "      <td>0.0</td>\n",
       "      <td>0.0</td>\n",
       "    </tr>\n",
       "    <tr>\n",
       "      <th>Repayments</th>\n",
       "      <td>2409.0</td>\n",
       "      <td>6.001660</td>\n",
       "      <td>2.865767</td>\n",
       "      <td>4.0</td>\n",
       "      <td>4.0</td>\n",
       "      <td>4.0</td>\n",
       "      <td>8.0</td>\n",
       "      <td>36.0</td>\n",
       "    </tr>\n",
       "    <tr>\n",
       "      <th>Principal_Repaid</th>\n",
       "      <td>2409.0</td>\n",
       "      <td>0.000000</td>\n",
       "      <td>0.000000</td>\n",
       "      <td>0.0</td>\n",
       "      <td>0.0</td>\n",
       "      <td>0.0</td>\n",
       "      <td>0.0</td>\n",
       "      <td>0.0</td>\n",
       "    </tr>\n",
       "    <tr>\n",
       "      <th>Principal_Outstanding</th>\n",
       "      <td>2409.0</td>\n",
       "      <td>0.000000</td>\n",
       "      <td>0.000000</td>\n",
       "      <td>0.0</td>\n",
       "      <td>0.0</td>\n",
       "      <td>0.0</td>\n",
       "      <td>0.0</td>\n",
       "      <td>0.0</td>\n",
       "    </tr>\n",
       "    <tr>\n",
       "      <th>Interest_Repaid</th>\n",
       "      <td>2409.0</td>\n",
       "      <td>0.000000</td>\n",
       "      <td>0.000000</td>\n",
       "      <td>0.0</td>\n",
       "      <td>0.0</td>\n",
       "      <td>0.0</td>\n",
       "      <td>0.0</td>\n",
       "      <td>0.0</td>\n",
       "    </tr>\n",
       "    <tr>\n",
       "      <th>Interest_Outstanding</th>\n",
       "      <td>2409.0</td>\n",
       "      <td>0.000000</td>\n",
       "      <td>0.000000</td>\n",
       "      <td>0.0</td>\n",
       "      <td>0.0</td>\n",
       "      <td>0.0</td>\n",
       "      <td>0.0</td>\n",
       "      <td>0.0</td>\n",
       "    </tr>\n",
       "    <tr>\n",
       "      <th>Loan_Outstanding</th>\n",
       "      <td>2409.0</td>\n",
       "      <td>0.000000</td>\n",
       "      <td>0.000000</td>\n",
       "      <td>0.0</td>\n",
       "      <td>0.0</td>\n",
       "      <td>0.0</td>\n",
       "      <td>0.0</td>\n",
       "      <td>0.0</td>\n",
       "    </tr>\n",
       "    <tr>\n",
       "      <th>Penalties_Charged</th>\n",
       "      <td>2409.0</td>\n",
       "      <td>0.000000</td>\n",
       "      <td>0.000000</td>\n",
       "      <td>0.0</td>\n",
       "      <td>0.0</td>\n",
       "      <td>0.0</td>\n",
       "      <td>0.0</td>\n",
       "      <td>0.0</td>\n",
       "    </tr>\n",
       "    <tr>\n",
       "      <th>Penalties_Paid</th>\n",
       "      <td>2409.0</td>\n",
       "      <td>0.000000</td>\n",
       "      <td>0.000000</td>\n",
       "      <td>0.0</td>\n",
       "      <td>0.0</td>\n",
       "      <td>0.0</td>\n",
       "      <td>0.0</td>\n",
       "      <td>0.0</td>\n",
       "    </tr>\n",
       "    <tr>\n",
       "      <th>Penalties_Waived</th>\n",
       "      <td>2409.0</td>\n",
       "      <td>0.000000</td>\n",
       "      <td>0.000000</td>\n",
       "      <td>0.0</td>\n",
       "      <td>0.0</td>\n",
       "      <td>0.0</td>\n",
       "      <td>0.0</td>\n",
       "      <td>0.0</td>\n",
       "    </tr>\n",
       "    <tr>\n",
       "      <th>Penalties_Outstanding</th>\n",
       "      <td>2409.0</td>\n",
       "      <td>0.000000</td>\n",
       "      <td>0.000000</td>\n",
       "      <td>0.0</td>\n",
       "      <td>0.0</td>\n",
       "      <td>0.0</td>\n",
       "      <td>0.0</td>\n",
       "      <td>0.0</td>\n",
       "    </tr>\n",
       "    <tr>\n",
       "      <th>repeat_borrowing</th>\n",
       "      <td>2409.0</td>\n",
       "      <td>5.481528</td>\n",
       "      <td>4.545974</td>\n",
       "      <td>1.0</td>\n",
       "      <td>3.0</td>\n",
       "      <td>4.0</td>\n",
       "      <td>7.0</td>\n",
       "      <td>27.0</td>\n",
       "    </tr>\n",
       "  </tbody>\n",
       "</table>\n",
       "</div>"
      ],
      "text/plain": [
       "                        count      mean       std  min  25%  50%  75%   max\n",
       "Principal              2409.0  0.000000  0.000000  0.0  0.0  0.0  0.0   0.0\n",
       "Interest               2409.0  0.000000  0.000000  0.0  0.0  0.0  0.0   0.0\n",
       "Repayments             2409.0  6.001660  2.865767  4.0  4.0  4.0  8.0  36.0\n",
       "Principal_Repaid       2409.0  0.000000  0.000000  0.0  0.0  0.0  0.0   0.0\n",
       "Principal_Outstanding  2409.0  0.000000  0.000000  0.0  0.0  0.0  0.0   0.0\n",
       "Interest_Repaid        2409.0  0.000000  0.000000  0.0  0.0  0.0  0.0   0.0\n",
       "Interest_Outstanding   2409.0  0.000000  0.000000  0.0  0.0  0.0  0.0   0.0\n",
       "Loan_Outstanding       2409.0  0.000000  0.000000  0.0  0.0  0.0  0.0   0.0\n",
       "Penalties_Charged      2409.0  0.000000  0.000000  0.0  0.0  0.0  0.0   0.0\n",
       "Penalties_Paid         2409.0  0.000000  0.000000  0.0  0.0  0.0  0.0   0.0\n",
       "Penalties_Waived       2409.0  0.000000  0.000000  0.0  0.0  0.0  0.0   0.0\n",
       "Penalties_Outstanding  2409.0  0.000000  0.000000  0.0  0.0  0.0  0.0   0.0\n",
       "repeat_borrowing       2409.0  5.481528  4.545974  1.0  3.0  4.0  7.0  27.0"
      ]
     },
     "execution_count": 41,
     "metadata": {},
     "output_type": "execute_result"
    }
   ],
   "source": [
    "# summary statistics of unsuccessful loans\n",
    "unsuccessful_loans.drop(['Loan_ID','Client_ID', 'Product_ID', 'Status_ID'], 1).describe().T"
   ]
  },
  {
   "cell_type": "code",
   "execution_count": 42,
   "metadata": {},
   "outputs": [
    {
     "data": {
      "text/plain": [
       "Loan_ID                      0\n",
       "Client_ID                    0\n",
       "Product_ID                   0\n",
       "Product                      0\n",
       "Status_ID                    0\n",
       "Loan_Status                  0\n",
       "Principal                    0\n",
       "Interest                     0\n",
       "Repayments                   0\n",
       "Date_Disbursed            2409\n",
       "Expected_Maturity_Date       0\n",
       "Maturity_Date                0\n",
       "Closed_Date                734\n",
       "Principal_Repaid             0\n",
       "Principal_Outstanding        0\n",
       "Interest_Repaid              0\n",
       "Interest_Outstanding         0\n",
       "Loan_Outstanding             0\n",
       "Penalties_Charged            0\n",
       "Penalties_Paid               0\n",
       "Penalties_Waived             0\n",
       "Penalties_Outstanding        0\n",
       "repeat_borrowing             0\n",
       "check_dates                  0\n",
       "dtype: int64"
      ]
     },
     "execution_count": 42,
     "metadata": {},
     "output_type": "execute_result"
    }
   ],
   "source": [
    "unsuccessful_loans.isnull().sum()"
   ]
  },
  {
   "cell_type": "code",
   "execution_count": 43,
   "metadata": {
    "colab": {
     "base_uri": "https://localhost:8080/",
     "height": 170
    },
    "colab_type": "code",
    "id": "tTLRlG21KBTx",
    "outputId": "ae6a1c1f-c87f-4c24-a674-ff090cbd1f90",
    "scrolled": true
   },
   "outputs": [
    {
     "data": {
      "text/plain": [
       "Inua Biashara                    1425\n",
       "Jenga Biashara                    754\n",
       "Dumisha Biashara                  200\n",
       "Inua Biashara Post Paid (15%)      12\n",
       "New Ngorika Agri Loan               9\n",
       "Inua Biashara Post Paid (10%)       7\n",
       "New Ngorika Capacity Loan           2\n",
       "Name: Product, dtype: int64"
      ]
     },
     "execution_count": 43,
     "metadata": {},
     "output_type": "execute_result"
    }
   ],
   "source": [
    "# distribution of products in unsuccessful loans \n",
    "unsuccessful_loans['Product'].value_counts()"
   ]
  },
  {
   "cell_type": "code",
   "execution_count": 44,
   "metadata": {},
   "outputs": [
    {
     "data": {
      "image/png": "[encoded data removed]",
      "text/plain": [
       "<Figure size 432x288 with 1 Axes>"
      ]
     },
     "metadata": {
      "needs_background": "light"
     },
     "output_type": "display_data"
    }
   ],
   "source": [
    "sns.countplot(y='Product', hue='Loan_Status', data=unsuccessful_loans)\n",
    "plt.legend(loc='lower right')\n",
    "plt.title('Loan status per product for unsuccessful_loans')\n",
    "plt.show()"
   ]
  },
  {
   "cell_type": "markdown",
   "metadata": {
    "colab_type": "text",
    "id": "JDXdya3Q7txn"
   },
   "source": [
    "# EDA of Loans Schedules"
   ]
  },
  {
   "cell_type": "code",
   "execution_count": 45,
   "metadata": {
    "colab": {
     "base_uri": "https://localhost:8080/",
     "height": 165
    },
    "colab_type": "code",
    "id": "O31itmTI_BIE",
    "outputId": "7ebe3c39-9e7b-47b5-91e3-ef1a67cf842a"
   },
   "outputs": [
    {
     "data": {
      "text/html": [
       "<div>\n",
       "<style scoped>\n",
       "    .dataframe tbody tr th:only-of-type {\n",
       "        vertical-align: middle;\n",
       "    }\n",
       "\n",
       "    .dataframe tbody tr th {\n",
       "        vertical-align: top;\n",
       "    }\n",
       "\n",
       "    .dataframe thead th {\n",
       "        text-align: right;\n",
       "    }\n",
       "</style>\n",
       "<table border=\"1\" class=\"dataframe\">\n",
       "  <thead>\n",
       "    <tr style=\"text-align: right;\">\n",
       "      <th></th>\n",
       "      <th>Loan ID</th>\n",
       "      <th>From Date</th>\n",
       "      <th>Due Date</th>\n",
       "      <th>Installment</th>\n",
       "      <th>Principal</th>\n",
       "      <th>Principal Completed</th>\n",
       "      <th>Interest</th>\n",
       "      <th>Interest Completed</th>\n",
       "      <th>Paid in Advance</th>\n",
       "      <th>Paid Late</th>\n",
       "      <th>Complete</th>\n",
       "      <th>Completed Date</th>\n",
       "    </tr>\n",
       "  </thead>\n",
       "  <tbody>\n",
       "    <tr>\n",
       "      <th>0</th>\n",
       "      <td>2</td>\n",
       "      <td>2015-01-07</td>\n",
       "      <td>2015-01-14</td>\n",
       "      <td>1</td>\n",
       "      <td>1875.0</td>\n",
       "      <td>NaN</td>\n",
       "      <td>450.0</td>\n",
       "      <td>NaN</td>\n",
       "      <td>NaN</td>\n",
       "      <td>NaN</td>\n",
       "      <td>0</td>\n",
       "      <td>NaT</td>\n",
       "    </tr>\n",
       "    <tr>\n",
       "      <th>1</th>\n",
       "      <td>2</td>\n",
       "      <td>2015-01-14</td>\n",
       "      <td>2015-01-21</td>\n",
       "      <td>2</td>\n",
       "      <td>1875.0</td>\n",
       "      <td>NaN</td>\n",
       "      <td>450.0</td>\n",
       "      <td>NaN</td>\n",
       "      <td>NaN</td>\n",
       "      <td>NaN</td>\n",
       "      <td>0</td>\n",
       "      <td>NaT</td>\n",
       "    </tr>\n",
       "  </tbody>\n",
       "</table>\n",
       "</div>"
      ],
      "text/plain": [
       "   Loan ID  From Date   Due Date  Installment  Principal  Principal Completed  \\\n",
       "0        2 2015-01-07 2015-01-14            1     1875.0                  NaN   \n",
       "1        2 2015-01-14 2015-01-21            2     1875.0                  NaN   \n",
       "\n",
       "   Interest  Interest Completed  Paid in Advance  Paid Late  Complete  \\\n",
       "0     450.0                 NaN              NaN        NaN         0   \n",
       "1     450.0                 NaN              NaN        NaN         0   \n",
       "\n",
       "  Completed Date  \n",
       "0            NaT  \n",
       "1            NaT  "
      ]
     },
     "execution_count": 45,
     "metadata": {},
     "output_type": "execute_result"
    }
   ],
   "source": [
    "loans_schedules.head(2)"
   ]
  },
  {
   "cell_type": "code",
   "execution_count": 46,
   "metadata": {
    "colab": {
     "base_uri": "https://localhost:8080/",
     "height": 85
    },
    "colab_type": "code",
    "id": "Qel0BpCB9NV6",
    "outputId": "dc6333d6-7baa-48c1-be55-64f99f1a2cae"
   },
   "outputs": [
    {
     "data": {
      "text/plain": [
       "Index([u'Loan_ID', u'From_Date', u'Due_Date', u'Installment', u'Principal',\n",
       "       u'Principal_Completed', u'Interest', u'Interest_Completed',\n",
       "       u'Paid_in_Advance', u'Paid_Late', u'Complete', u'Completed_Date'],\n",
       "      dtype='object')"
      ]
     },
     "execution_count": 46,
     "metadata": {},
     "output_type": "execute_result"
    }
   ],
   "source": [
    "# rename columns to python standards \n",
    "loans_schedules.columns = loans_schedules.columns.str.replace(' ', '_')\n",
    "loans_schedules.columns"
   ]
  },
  {
   "cell_type": "code",
   "execution_count": 47,
   "metadata": {
    "colab": {
     "base_uri": "https://localhost:8080/",
     "height": 34
    },
    "colab_type": "code",
    "id": "Fygf0Bu578o8",
    "outputId": "0e43c644-9f8c-4774-e326-c255c9a7c2d1"
   },
   "outputs": [
    {
     "name": "stdout",
     "output_type": "stream",
     "text": [
      "loans schedules data has got 301004 rows and 12 columns.\n"
     ]
    }
   ],
   "source": [
    "# shape of the loans data \n",
    "print('loans schedules data has got {} rows and {} columns.'.format(loans_schedules.shape[0], loans_schedules.shape[1]))"
   ]
  },
  {
   "cell_type": "code",
   "execution_count": 48,
   "metadata": {
    "colab": {
     "base_uri": "https://localhost:8080/",
     "height": 238
    },
    "colab_type": "code",
    "id": "aroLIlxwKBSz",
    "outputId": "a375184a-8b61-44d9-8dc9-83ed3b91e1c3"
   },
   "outputs": [
    {
     "data": {
      "text/plain": [
       "Loan_ID                     0\n",
       "From_Date                   0\n",
       "Due_Date                    0\n",
       "Installment                 0\n",
       "Principal                   0\n",
       "Principal_Completed     48936\n",
       "Interest               100444\n",
       "Interest_Completed     140969\n",
       "Paid_in_Advance        219154\n",
       "Paid_Late              142870\n",
       "Complete                    0\n",
       "Completed_Date          62894\n",
       "dtype: int64"
      ]
     },
     "execution_count": 48,
     "metadata": {},
     "output_type": "execute_result"
    }
   ],
   "source": [
    "#checking null data\n",
    "loans_schedules.isnull().sum()"
   ]
  },
  {
   "cell_type": "code",
   "execution_count": 49,
   "metadata": {},
   "outputs": [
    {
     "data": {
      "text/plain": [
       "Loan_ID                         int64\n",
       "From_Date              datetime64[ns]\n",
       "Due_Date               datetime64[ns]\n",
       "Installment                     int64\n",
       "Principal                     float64\n",
       "Principal_Completed           float64\n",
       "Interest                      float64\n",
       "Interest_Completed            float64\n",
       "Paid_in_Advance               float64\n",
       "Paid_Late                     float64\n",
       "Complete                        int64\n",
       "Completed_Date         datetime64[ns]\n",
       "dtype: object"
      ]
     },
     "execution_count": 49,
     "metadata": {},
     "output_type": "execute_result"
    }
   ],
   "source": [
    "# data types of loans schedules \n",
    "loans_schedules.dtypes"
   ]
  },
  {
   "cell_type": "code",
   "execution_count": 50,
   "metadata": {},
   "outputs": [
    {
     "data": {
      "text/html": [
       "<div>\n",
       "<style scoped>\n",
       "    .dataframe tbody tr th:only-of-type {\n",
       "        vertical-align: middle;\n",
       "    }\n",
       "\n",
       "    .dataframe tbody tr th {\n",
       "        vertical-align: top;\n",
       "    }\n",
       "\n",
       "    .dataframe thead th {\n",
       "        text-align: right;\n",
       "    }\n",
       "</style>\n",
       "<table border=\"1\" class=\"dataframe\">\n",
       "  <thead>\n",
       "    <tr style=\"text-align: right;\">\n",
       "      <th></th>\n",
       "      <th>count</th>\n",
       "      <th>mean</th>\n",
       "      <th>std</th>\n",
       "      <th>min</th>\n",
       "      <th>25%</th>\n",
       "      <th>50%</th>\n",
       "      <th>75%</th>\n",
       "      <th>max</th>\n",
       "    </tr>\n",
       "  </thead>\n",
       "  <tbody>\n",
       "    <tr>\n",
       "      <th>Installment</th>\n",
       "      <td>301004.0</td>\n",
       "      <td>4.506561</td>\n",
       "      <td>3.535509</td>\n",
       "      <td>1.00</td>\n",
       "      <td>2.0</td>\n",
       "      <td>4.0</td>\n",
       "      <td>6.000</td>\n",
       "      <td>36.00</td>\n",
       "    </tr>\n",
       "    <tr>\n",
       "      <th>Principal</th>\n",
       "      <td>301004.0</td>\n",
       "      <td>2870.295724</td>\n",
       "      <td>2201.749270</td>\n",
       "      <td>1001.38</td>\n",
       "      <td>1875.0</td>\n",
       "      <td>2500.0</td>\n",
       "      <td>3125.000</td>\n",
       "      <td>115789.87</td>\n",
       "    </tr>\n",
       "    <tr>\n",
       "      <th>Principal_Completed</th>\n",
       "      <td>252068.0</td>\n",
       "      <td>2742.353835</td>\n",
       "      <td>1675.583587</td>\n",
       "      <td>0.02</td>\n",
       "      <td>1875.0</td>\n",
       "      <td>2500.0</td>\n",
       "      <td>3125.000</td>\n",
       "      <td>99735.38</td>\n",
       "    </tr>\n",
       "    <tr>\n",
       "      <th>Interest</th>\n",
       "      <td>200560.0</td>\n",
       "      <td>742.348988</td>\n",
       "      <td>620.494271</td>\n",
       "      <td>11.17</td>\n",
       "      <td>450.0</td>\n",
       "      <td>600.0</td>\n",
       "      <td>875.010</td>\n",
       "      <td>35210.00</td>\n",
       "    </tr>\n",
       "    <tr>\n",
       "      <th>Interest_Completed</th>\n",
       "      <td>160035.0</td>\n",
       "      <td>711.282869</td>\n",
       "      <td>533.740473</td>\n",
       "      <td>0.01</td>\n",
       "      <td>450.0</td>\n",
       "      <td>600.0</td>\n",
       "      <td>875.000</td>\n",
       "      <td>35210.00</td>\n",
       "    </tr>\n",
       "    <tr>\n",
       "      <th>Paid_in_Advance</th>\n",
       "      <td>81850.0</td>\n",
       "      <td>1798.603824</td>\n",
       "      <td>2118.637074</td>\n",
       "      <td>0.01</td>\n",
       "      <td>150.0</td>\n",
       "      <td>1200.0</td>\n",
       "      <td>2500.065</td>\n",
       "      <td>49821.46</td>\n",
       "    </tr>\n",
       "    <tr>\n",
       "      <th>Paid_Late</th>\n",
       "      <td>158134.0</td>\n",
       "      <td>2988.543538</td>\n",
       "      <td>2296.396864</td>\n",
       "      <td>0.00</td>\n",
       "      <td>2325.0</td>\n",
       "      <td>2500.0</td>\n",
       "      <td>3725.000</td>\n",
       "      <td>118376.00</td>\n",
       "    </tr>\n",
       "    <tr>\n",
       "      <th>Complete</th>\n",
       "      <td>301004.0</td>\n",
       "      <td>0.791053</td>\n",
       "      <td>0.406557</td>\n",
       "      <td>0.00</td>\n",
       "      <td>1.0</td>\n",
       "      <td>1.0</td>\n",
       "      <td>1.000</td>\n",
       "      <td>1.00</td>\n",
       "    </tr>\n",
       "  </tbody>\n",
       "</table>\n",
       "</div>"
      ],
      "text/plain": [
       "                        count         mean          std      min     25%  \\\n",
       "Installment          301004.0     4.506561     3.535509     1.00     2.0   \n",
       "Principal            301004.0  2870.295724  2201.749270  1001.38  1875.0   \n",
       "Principal_Completed  252068.0  2742.353835  1675.583587     0.02  1875.0   \n",
       "Interest             200560.0   742.348988   620.494271    11.17   450.0   \n",
       "Interest_Completed   160035.0   711.282869   533.740473     0.01   450.0   \n",
       "Paid_in_Advance       81850.0  1798.603824  2118.637074     0.01   150.0   \n",
       "Paid_Late            158134.0  2988.543538  2296.396864     0.00  2325.0   \n",
       "Complete             301004.0     0.791053     0.406557     0.00     1.0   \n",
       "\n",
       "                        50%       75%        max  \n",
       "Installment             4.0     6.000      36.00  \n",
       "Principal            2500.0  3125.000  115789.87  \n",
       "Principal_Completed  2500.0  3125.000   99735.38  \n",
       "Interest              600.0   875.010   35210.00  \n",
       "Interest_Completed    600.0   875.000   35210.00  \n",
       "Paid_in_Advance      1200.0  2500.065   49821.46  \n",
       "Paid_Late            2500.0  3725.000  118376.00  \n",
       "Complete                1.0     1.000       1.00  "
      ]
     },
     "execution_count": 50,
     "metadata": {},
     "output_type": "execute_result"
    }
   ],
   "source": [
    "# summary statistics of loan schedules \n",
    "loans_schedules.drop('Loan_ID', 1).describe().T"
   ]
  },
  {
   "cell_type": "code",
   "execution_count": 51,
   "metadata": {
    "colab": {
     "base_uri": "https://localhost:8080/",
     "height": 34
    },
    "colab_type": "code",
    "id": "hDRI6WPs-mdl",
    "outputId": "d6581046-1558-41c8-c775-534ea81c8af0"
   },
   "outputs": [
    {
     "data": {
      "text/plain": [
       "(47368, 47342)"
      ]
     },
     "execution_count": 51,
     "metadata": {},
     "output_type": "execute_result"
    }
   ],
   "source": [
    "# number of unique loan_id\n",
    "loans_schedules.Loan_ID.nunique(), loans.Loan_ID.nunique()"
   ]
  },
  {
   "cell_type": "markdown",
   "metadata": {},
   "source": [
    "# EDA of loans Payments"
   ]
  },
  {
   "cell_type": "code",
   "execution_count": 52,
   "metadata": {},
   "outputs": [
    {
     "data": {
      "text/html": [
       "<div>\n",
       "<style scoped>\n",
       "    .dataframe tbody tr th:only-of-type {\n",
       "        vertical-align: middle;\n",
       "    }\n",
       "\n",
       "    .dataframe tbody tr th {\n",
       "        vertical-align: top;\n",
       "    }\n",
       "\n",
       "    .dataframe thead th {\n",
       "        text-align: right;\n",
       "    }\n",
       "</style>\n",
       "<table border=\"1\" class=\"dataframe\">\n",
       "  <thead>\n",
       "    <tr style=\"text-align: right;\">\n",
       "      <th></th>\n",
       "      <th>ID</th>\n",
       "      <th>Loan ID</th>\n",
       "      <th>TXN Date</th>\n",
       "      <th>Amount</th>\n",
       "      <th>Principal</th>\n",
       "      <th>Interest</th>\n",
       "      <th>Penalty</th>\n",
       "    </tr>\n",
       "  </thead>\n",
       "  <tbody>\n",
       "    <tr>\n",
       "      <th>0</th>\n",
       "      <td>320</td>\n",
       "      <td>5</td>\n",
       "      <td>2015-01-22</td>\n",
       "      <td>2500.0</td>\n",
       "      <td>2500.0</td>\n",
       "      <td>NaN</td>\n",
       "      <td>NaN</td>\n",
       "    </tr>\n",
       "    <tr>\n",
       "      <th>1</th>\n",
       "      <td>321</td>\n",
       "      <td>5</td>\n",
       "      <td>2015-01-29</td>\n",
       "      <td>2500.0</td>\n",
       "      <td>2500.0</td>\n",
       "      <td>NaN</td>\n",
       "      <td>NaN</td>\n",
       "    </tr>\n",
       "  </tbody>\n",
       "</table>\n",
       "</div>"
      ],
      "text/plain": [
       "    ID  Loan ID   TXN Date  Amount  Principal  Interest  Penalty\n",
       "0  320        5 2015-01-22  2500.0     2500.0       NaN      NaN\n",
       "1  321        5 2015-01-29  2500.0     2500.0       NaN      NaN"
      ]
     },
     "execution_count": 52,
     "metadata": {},
     "output_type": "execute_result"
    }
   ],
   "source": [
    "# sample \n",
    "loans_payments.head(2)"
   ]
  },
  {
   "cell_type": "code",
   "execution_count": 53,
   "metadata": {
    "colab": {
     "base_uri": "https://localhost:8080/",
     "height": 170
    },
    "colab_type": "code",
    "id": "iT-kKUqHKBS2",
    "outputId": "90a3ab92-1763-4828-d42f-48e06096330a",
    "scrolled": true
   },
   "outputs": [
    {
     "name": "stdout",
     "output_type": "stream",
     "text": [
      "loans payments has got 283924 rows and 7 columns.\n"
     ]
    }
   ],
   "source": [
    "# shape of loans payments\n",
    "print('loans payments has got {} rows and {} columns.'.format(loans_payments.shape[0], loans_payments.shape[1]))"
   ]
  },
  {
   "cell_type": "code",
   "execution_count": 54,
   "metadata": {
    "scrolled": true
   },
   "outputs": [
    {
     "data": {
      "text/plain": [
       "Index([u'ID', u'Loan_ID', u'TXN_Date', u'Amount', u'Principal', u'Interest',\n",
       "       u'Penalty'],\n",
       "      dtype='object')"
      ]
     },
     "execution_count": 54,
     "metadata": {},
     "output_type": "execute_result"
    }
   ],
   "source": [
    "# rename columns \n",
    "loans_payments.columns = loans_payments.columns.str.replace(' ', \"_\")\n",
    "loans_payments.columns"
   ]
  },
  {
   "cell_type": "code",
   "execution_count": 55,
   "metadata": {},
   "outputs": [
    {
     "data": {
      "text/plain": [
       "ID                0\n",
       "Loan_ID           0\n",
       "TXN_Date          0\n",
       "Amount            0\n",
       "Principal     18390\n",
       "Interest     138513\n",
       "Penalty      256131\n",
       "dtype: int64"
      ]
     },
     "execution_count": 55,
     "metadata": {},
     "output_type": "execute_result"
    }
   ],
   "source": [
    "# check for null values\n",
    "loans_payments.isnull().sum()"
   ]
  },
  {
   "cell_type": "code",
   "execution_count": 56,
   "metadata": {},
   "outputs": [
    {
     "data": {
      "text/plain": [
       "ID                    int64\n",
       "Loan_ID               int64\n",
       "TXN_Date     datetime64[ns]\n",
       "Amount              float64\n",
       "Principal           float64\n",
       "Interest            float64\n",
       "Penalty             float64\n",
       "dtype: object"
      ]
     },
     "execution_count": 56,
     "metadata": {},
     "output_type": "execute_result"
    }
   ],
   "source": [
    "# check data types\n",
    "loans_payments.dtypes"
   ]
  },
  {
   "cell_type": "code",
   "execution_count": 57,
   "metadata": {},
   "outputs": [
    {
     "data": {
      "text/html": [
       "<div>\n",
       "<style scoped>\n",
       "    .dataframe tbody tr th:only-of-type {\n",
       "        vertical-align: middle;\n",
       "    }\n",
       "\n",
       "    .dataframe tbody tr th {\n",
       "        vertical-align: top;\n",
       "    }\n",
       "\n",
       "    .dataframe thead th {\n",
       "        text-align: right;\n",
       "    }\n",
       "</style>\n",
       "<table border=\"1\" class=\"dataframe\">\n",
       "  <thead>\n",
       "    <tr style=\"text-align: right;\">\n",
       "      <th></th>\n",
       "      <th>count</th>\n",
       "      <th>mean</th>\n",
       "      <th>std</th>\n",
       "      <th>min</th>\n",
       "      <th>25%</th>\n",
       "      <th>50%</th>\n",
       "      <th>75%</th>\n",
       "      <th>max</th>\n",
       "    </tr>\n",
       "  </thead>\n",
       "  <tbody>\n",
       "    <tr>\n",
       "      <th>Amount</th>\n",
       "      <td>283924.0</td>\n",
       "      <td>2965.148718</td>\n",
       "      <td>3377.558351</td>\n",
       "      <td>0.01</td>\n",
       "      <td>1400.0</td>\n",
       "      <td>2500.0</td>\n",
       "      <td>3542.17</td>\n",
       "      <td>351000.00</td>\n",
       "    </tr>\n",
       "    <tr>\n",
       "      <th>Principal</th>\n",
       "      <td>265534.0</td>\n",
       "      <td>2604.037236</td>\n",
       "      <td>2749.939584</td>\n",
       "      <td>0.01</td>\n",
       "      <td>1470.0</td>\n",
       "      <td>2400.0</td>\n",
       "      <td>3000.00</td>\n",
       "      <td>336669.81</td>\n",
       "    </tr>\n",
       "    <tr>\n",
       "      <th>Interest</th>\n",
       "      <td>145411.0</td>\n",
       "      <td>783.085901</td>\n",
       "      <td>858.005411</td>\n",
       "      <td>0.01</td>\n",
       "      <td>450.0</td>\n",
       "      <td>600.0</td>\n",
       "      <td>900.00</td>\n",
       "      <td>81000.00</td>\n",
       "    </tr>\n",
       "    <tr>\n",
       "      <th>Penalty</th>\n",
       "      <td>27793.0</td>\n",
       "      <td>1228.332654</td>\n",
       "      <td>1623.505067</td>\n",
       "      <td>0.01</td>\n",
       "      <td>200.0</td>\n",
       "      <td>600.0</td>\n",
       "      <td>1600.00</td>\n",
       "      <td>35500.00</td>\n",
       "    </tr>\n",
       "  </tbody>\n",
       "</table>\n",
       "</div>"
      ],
      "text/plain": [
       "              count         mean          std   min     25%     50%      75%  \\\n",
       "Amount     283924.0  2965.148718  3377.558351  0.01  1400.0  2500.0  3542.17   \n",
       "Principal  265534.0  2604.037236  2749.939584  0.01  1470.0  2400.0  3000.00   \n",
       "Interest   145411.0   783.085901   858.005411  0.01   450.0   600.0   900.00   \n",
       "Penalty     27793.0  1228.332654  1623.505067  0.01   200.0   600.0  1600.00   \n",
       "\n",
       "                 max  \n",
       "Amount     351000.00  \n",
       "Principal  336669.81  \n",
       "Interest    81000.00  \n",
       "Penalty     35500.00  "
      ]
     },
     "execution_count": 57,
     "metadata": {},
     "output_type": "execute_result"
    }
   ],
   "source": [
    "# summary statistics of loans payments\n",
    "loans_payments.drop(['ID', 'Loan_ID'], 1).describe().T"
   ]
  },
  {
   "cell_type": "code",
   "execution_count": 58,
   "metadata": {},
   "outputs": [
    {
     "data": {
      "text/plain": [
       "Loan_ID\n",
       "5         11500.00\n",
       "6         15000.00\n",
       "7         20000.00\n",
       "8         15300.00\n",
       "9         15100.00\n",
       "10        15000.00\n",
       "11        10000.00\n",
       "12        15000.00\n",
       "13        15600.00\n",
       "14        15100.00\n",
       "15        10100.00\n",
       "16        15000.00\n",
       "17        15000.00\n",
       "18        13700.00\n",
       "19        10000.00\n",
       "20        20000.00\n",
       "21        20000.00\n",
       "22        20600.00\n",
       "23        10000.00\n",
       "24        22700.00\n",
       "25        10000.00\n",
       "26        15000.00\n",
       "27        15100.00\n",
       "28        86521.75\n",
       "29        64182.11\n",
       "30       120426.10\n",
       "31        68295.70\n",
       "32       116009.00\n",
       "33       129074.66\n",
       "34        38509.29\n",
       "           ...    \n",
       "46483      2500.00\n",
       "46488      2500.00\n",
       "46489      4000.00\n",
       "46495      2500.00\n",
       "46507      2500.00\n",
       "46562      2325.00\n",
       "46576      1250.00\n",
       "46578      2500.00\n",
       "46589      2000.00\n",
       "46608      1000.00\n",
       "46621      2500.00\n",
       "46647      2500.00\n",
       "46655      2500.00\n",
       "46657      1250.00\n",
       "46679       300.00\n",
       "46691      2500.00\n",
       "46727      3100.00\n",
       "46730      3000.00\n",
       "46741      2500.00\n",
       "46742      2500.00\n",
       "46743      1300.00\n",
       "46792       200.00\n",
       "46793      3000.00\n",
       "46800      4000.00\n",
       "46807       500.00\n",
       "46888      2600.00\n",
       "46955       500.00\n",
       "46993      1000.00\n",
       "47043      5000.00\n",
       "47116      3750.00\n",
       "Name: Amount, Length: 43556, dtype: float64"
      ]
     },
     "execution_count": 58,
     "metadata": {},
     "output_type": "execute_result"
    }
   ],
   "source": [
    "loans_payments.groupby('Loan_ID')['Amount'].sum()"
   ]
  },
  {
   "cell_type": "code",
   "execution_count": 59,
   "metadata": {},
   "outputs": [
    {
     "data": {
      "text/plain": [
       "count                  283924\n",
       "unique                    885\n",
       "top       2017-06-05 00:00:00\n",
       "freq                     1337\n",
       "first     2015-01-12 00:00:00\n",
       "last      2017-06-14 00:00:00\n",
       "Name: TXN_Date, dtype: object"
      ]
     },
     "execution_count": 59,
     "metadata": {},
     "output_type": "execute_result"
    }
   ],
   "source": [
    "# transaction date details\n",
    "loans_payments['TXN_Date'].describe()"
   ]
  },
  {
   "cell_type": "markdown",
   "metadata": {},
   "source": [
    "## Loans payments date range from 2015-01-12 to 2017-06-14"
   ]
  },
  {
   "cell_type": "code",
   "execution_count": 60,
   "metadata": {},
   "outputs": [
    {
     "data": {
      "text/plain": [
       "ID                0\n",
       "Loan_ID           0\n",
       "TXN_Date          0\n",
       "Amount            0\n",
       "Principal     18390\n",
       "Interest     138513\n",
       "Penalty      256131\n",
       "dtype: int64"
      ]
     },
     "execution_count": 60,
     "metadata": {},
     "output_type": "execute_result"
    }
   ],
   "source": [
    "#checking null data\n",
    "loans_payments.isnull().sum()"
   ]
  },
  {
   "cell_type": "code",
   "execution_count": 61,
   "metadata": {
    "colab": {
     "base_uri": "https://localhost:8080/",
     "height": 34
    },
    "colab_type": "code",
    "id": "G8obwW0sKBTe",
    "outputId": "19c08afd-ea77-42dd-8ebb-87ece609012e"
   },
   "outputs": [
    {
     "data": {
      "text/plain": [
       "841876884.7100003"
      ]
     },
     "execution_count": 61,
     "metadata": {},
     "output_type": "execute_result"
    }
   ],
   "source": [
    "#total loan repaid on that period\n",
    "loans_payments['Amount'].sum()"
   ]
  },
  {
   "cell_type": "code",
   "execution_count": 62,
   "metadata": {},
   "outputs": [
    {
     "data": {
      "text/plain": [
       "2016    129698\n",
       "2017     93762\n",
       "2015     60464\n",
       "Name: year, dtype: int64"
      ]
     },
     "execution_count": 62,
     "metadata": {},
     "output_type": "execute_result"
    }
   ],
   "source": [
    "import datetime as dt\n",
    "loans_payments['year'] = loans_payments['TXN_Date'].dt.year\n",
    "loans_payments['year'].value_counts()"
   ]
  },
  {
   "cell_type": "code",
   "execution_count": 63,
   "metadata": {},
   "outputs": [
    {
     "data": {
      "text/html": [
       "<div>\n",
       "<style scoped>\n",
       "    .dataframe tbody tr th:only-of-type {\n",
       "        vertical-align: middle;\n",
       "    }\n",
       "\n",
       "    .dataframe tbody tr th {\n",
       "        vertical-align: top;\n",
       "    }\n",
       "\n",
       "    .dataframe thead th {\n",
       "        text-align: right;\n",
       "    }\n",
       "</style>\n",
       "<table border=\"1\" class=\"dataframe\">\n",
       "  <thead>\n",
       "    <tr style=\"text-align: right;\">\n",
       "      <th></th>\n",
       "      <th>Amount</th>\n",
       "    </tr>\n",
       "    <tr>\n",
       "      <th>year</th>\n",
       "      <th></th>\n",
       "    </tr>\n",
       "  </thead>\n",
       "  <tbody>\n",
       "    <tr>\n",
       "      <th>2015</th>\n",
       "      <td>2.020296e+08</td>\n",
       "    </tr>\n",
       "    <tr>\n",
       "      <th>2016</th>\n",
       "      <td>3.784540e+08</td>\n",
       "    </tr>\n",
       "    <tr>\n",
       "      <th>2017</th>\n",
       "      <td>2.613933e+08</td>\n",
       "    </tr>\n",
       "    <tr>\n",
       "      <th>All</th>\n",
       "      <td>8.418769e+08</td>\n",
       "    </tr>\n",
       "  </tbody>\n",
       "</table>\n",
       "</div>"
      ],
      "text/plain": [
       "            Amount\n",
       "year              \n",
       "2015  2.020296e+08\n",
       "2016  3.784540e+08\n",
       "2017  2.613933e+08\n",
       "All   8.418769e+08"
      ]
     },
     "execution_count": 63,
     "metadata": {},
     "output_type": "execute_result"
    }
   ],
   "source": [
    "# total amount paid per year \n",
    "pd.pivot_table(loans_payments, index=['year'], values=['Amount'], aggfunc=np.sum, margins=True)"
   ]
  },
  {
   "cell_type": "code",
   "execution_count": 64,
   "metadata": {},
   "outputs": [
    {
     "data": {
      "text/html": [
       "<div>\n",
       "<style scoped>\n",
       "    .dataframe tbody tr th:only-of-type {\n",
       "        vertical-align: middle;\n",
       "    }\n",
       "\n",
       "    .dataframe tbody tr th {\n",
       "        vertical-align: top;\n",
       "    }\n",
       "\n",
       "    .dataframe thead th {\n",
       "        text-align: right;\n",
       "    }\n",
       "</style>\n",
       "<table border=\"1\" class=\"dataframe\">\n",
       "  <thead>\n",
       "    <tr style=\"text-align: right;\">\n",
       "      <th></th>\n",
       "      <th>Client_ID</th>\n",
       "      <th>Office</th>\n",
       "      <th>Loan_ID</th>\n",
       "      <th>Product_ID</th>\n",
       "      <th>Product</th>\n",
       "      <th>Status_ID</th>\n",
       "      <th>Loan_Status</th>\n",
       "      <th>Principal</th>\n",
       "      <th>Interest</th>\n",
       "      <th>Repayments</th>\n",
       "      <th>...</th>\n",
       "      <th>Principal_Outstanding</th>\n",
       "      <th>Interest_Repaid</th>\n",
       "      <th>Interest_Outstanding</th>\n",
       "      <th>Loan_Outstanding</th>\n",
       "      <th>Penalties_Charged</th>\n",
       "      <th>Penalties_Paid</th>\n",
       "      <th>Penalties_Waived</th>\n",
       "      <th>Penalties_Outstanding</th>\n",
       "      <th>repeat_borrowing</th>\n",
       "      <th>check_dates</th>\n",
       "    </tr>\n",
       "  </thead>\n",
       "  <tbody>\n",
       "    <tr>\n",
       "      <th>0</th>\n",
       "      <td>1</td>\n",
       "      <td>Ngong Rd</td>\n",
       "      <td>4</td>\n",
       "      <td>3</td>\n",
       "      <td>Inua Biashara</td>\n",
       "      <td>500</td>\n",
       "      <td>Rejected</td>\n",
       "      <td>0</td>\n",
       "      <td>0.0</td>\n",
       "      <td>4</td>\n",
       "      <td>...</td>\n",
       "      <td>0.0</td>\n",
       "      <td>0.0</td>\n",
       "      <td>0.0</td>\n",
       "      <td>0.0</td>\n",
       "      <td>0.0</td>\n",
       "      <td>0.0</td>\n",
       "      <td>0.0</td>\n",
       "      <td>0.0</td>\n",
       "      <td>2</td>\n",
       "      <td>wrong</td>\n",
       "    </tr>\n",
       "    <tr>\n",
       "      <th>1</th>\n",
       "      <td>1</td>\n",
       "      <td>Ngong Rd</td>\n",
       "      <td>96</td>\n",
       "      <td>3</td>\n",
       "      <td>Inua Biashara</td>\n",
       "      <td>300</td>\n",
       "      <td>Active</td>\n",
       "      <td>15000</td>\n",
       "      <td>0.0</td>\n",
       "      <td>4</td>\n",
       "      <td>...</td>\n",
       "      <td>0.0</td>\n",
       "      <td>0.0</td>\n",
       "      <td>0.0</td>\n",
       "      <td>0.0</td>\n",
       "      <td>1600.0</td>\n",
       "      <td>700.0</td>\n",
       "      <td>0.0</td>\n",
       "      <td>900.0</td>\n",
       "      <td>2</td>\n",
       "      <td>right</td>\n",
       "    </tr>\n",
       "    <tr>\n",
       "      <th>2</th>\n",
       "      <td>2</td>\n",
       "      <td>Ngong Rd</td>\n",
       "      <td>1</td>\n",
       "      <td>3</td>\n",
       "      <td>Inua Biashara</td>\n",
       "      <td>500</td>\n",
       "      <td>Rejected</td>\n",
       "      <td>0</td>\n",
       "      <td>0.0</td>\n",
       "      <td>4</td>\n",
       "      <td>...</td>\n",
       "      <td>0.0</td>\n",
       "      <td>0.0</td>\n",
       "      <td>0.0</td>\n",
       "      <td>0.0</td>\n",
       "      <td>0.0</td>\n",
       "      <td>0.0</td>\n",
       "      <td>0.0</td>\n",
       "      <td>0.0</td>\n",
       "      <td>5</td>\n",
       "      <td>wrong</td>\n",
       "    </tr>\n",
       "    <tr>\n",
       "      <th>3</th>\n",
       "      <td>2</td>\n",
       "      <td>Ngong Rd</td>\n",
       "      <td>101</td>\n",
       "      <td>3</td>\n",
       "      <td>Inua Biashara</td>\n",
       "      <td>600</td>\n",
       "      <td>Closed</td>\n",
       "      <td>10000</td>\n",
       "      <td>0.0</td>\n",
       "      <td>4</td>\n",
       "      <td>...</td>\n",
       "      <td>0.0</td>\n",
       "      <td>0.0</td>\n",
       "      <td>0.0</td>\n",
       "      <td>0.0</td>\n",
       "      <td>1200.0</td>\n",
       "      <td>1200.0</td>\n",
       "      <td>0.0</td>\n",
       "      <td>0.0</td>\n",
       "      <td>5</td>\n",
       "      <td>right</td>\n",
       "    </tr>\n",
       "    <tr>\n",
       "      <th>4</th>\n",
       "      <td>2</td>\n",
       "      <td>Ngong Rd</td>\n",
       "      <td>811</td>\n",
       "      <td>3</td>\n",
       "      <td>Inua Biashara</td>\n",
       "      <td>300</td>\n",
       "      <td>Active</td>\n",
       "      <td>10000</td>\n",
       "      <td>0.0</td>\n",
       "      <td>4</td>\n",
       "      <td>...</td>\n",
       "      <td>0.0</td>\n",
       "      <td>0.0</td>\n",
       "      <td>0.0</td>\n",
       "      <td>0.0</td>\n",
       "      <td>3800.0</td>\n",
       "      <td>2400.0</td>\n",
       "      <td>0.0</td>\n",
       "      <td>1400.0</td>\n",
       "      <td>5</td>\n",
       "      <td>right</td>\n",
       "    </tr>\n",
       "  </tbody>\n",
       "</table>\n",
       "<p>5 rows × 25 columns</p>\n",
       "</div>"
      ],
      "text/plain": [
       "   Client_ID    Office  Loan_ID  Product_ID        Product  Status_ID  \\\n",
       "0          1  Ngong Rd        4           3  Inua Biashara        500   \n",
       "1          1  Ngong Rd       96           3  Inua Biashara        300   \n",
       "2          2  Ngong Rd        1           3  Inua Biashara        500   \n",
       "3          2  Ngong Rd      101           3  Inua Biashara        600   \n",
       "4          2  Ngong Rd      811           3  Inua Biashara        300   \n",
       "\n",
       "  Loan_Status  Principal  Interest  Repayments  ... Principal_Outstanding  \\\n",
       "0    Rejected          0       0.0           4  ...                   0.0   \n",
       "1      Active      15000       0.0           4  ...                   0.0   \n",
       "2    Rejected          0       0.0           4  ...                   0.0   \n",
       "3      Closed      10000       0.0           4  ...                   0.0   \n",
       "4      Active      10000       0.0           4  ...                   0.0   \n",
       "\n",
       "  Interest_Repaid Interest_Outstanding Loan_Outstanding  Penalties_Charged  \\\n",
       "0             0.0                  0.0              0.0                0.0   \n",
       "1             0.0                  0.0              0.0             1600.0   \n",
       "2             0.0                  0.0              0.0                0.0   \n",
       "3             0.0                  0.0              0.0             1200.0   \n",
       "4             0.0                  0.0              0.0             3800.0   \n",
       "\n",
       "   Penalties_Paid  Penalties_Waived  Penalties_Outstanding  repeat_borrowing  \\\n",
       "0             0.0               0.0                    0.0                 2   \n",
       "1           700.0               0.0                  900.0                 2   \n",
       "2             0.0               0.0                    0.0                 5   \n",
       "3          1200.0               0.0                    0.0                 5   \n",
       "4          2400.0               0.0                 1400.0                 5   \n",
       "\n",
       "   check_dates  \n",
       "0        wrong  \n",
       "1        right  \n",
       "2        wrong  \n",
       "3        right  \n",
       "4        right  \n",
       "\n",
       "[5 rows x 25 columns]"
      ]
     },
     "execution_count": 64,
     "metadata": {},
     "output_type": "execute_result"
    }
   ],
   "source": [
    "#conbine clients sheet and loans sheet with Client_ID column\n",
    "comb_cl=pd.merge(clients[['Client_ID', 'Office']], loans, how='inner', on='Client_ID')\n",
    "comb_cl.head()"
   ]
  },
  {
   "cell_type": "code",
   "execution_count": 65,
   "metadata": {},
   "outputs": [
    {
     "data": {
      "text/html": [
       "<div>\n",
       "<style scoped>\n",
       "    .dataframe tbody tr th:only-of-type {\n",
       "        vertical-align: middle;\n",
       "    }\n",
       "\n",
       "    .dataframe tbody tr th {\n",
       "        vertical-align: top;\n",
       "    }\n",
       "\n",
       "    .dataframe thead th {\n",
       "        text-align: right;\n",
       "    }\n",
       "</style>\n",
       "<table border=\"1\" class=\"dataframe\">\n",
       "  <thead>\n",
       "    <tr style=\"text-align: right;\">\n",
       "      <th></th>\n",
       "      <th>Loan_Outstanding</th>\n",
       "    </tr>\n",
       "    <tr>\n",
       "      <th>Office</th>\n",
       "      <th></th>\n",
       "    </tr>\n",
       "  </thead>\n",
       "  <tbody>\n",
       "    <tr>\n",
       "      <th>Ngorika</th>\n",
       "      <td>42159738.56</td>\n",
       "    </tr>\n",
       "    <tr>\n",
       "      <th>Ndonyo Njeru</th>\n",
       "      <td>29056546.31</td>\n",
       "    </tr>\n",
       "    <tr>\n",
       "      <th>Ngong Rd</th>\n",
       "      <td>4907026.66</td>\n",
       "    </tr>\n",
       "    <tr>\n",
       "      <th>Eldoret 2</th>\n",
       "      <td>4734012.18</td>\n",
       "    </tr>\n",
       "    <tr>\n",
       "      <th>Kahawa</th>\n",
       "      <td>4144449.63</td>\n",
       "    </tr>\n",
       "    <tr>\n",
       "      <th>Kiambu</th>\n",
       "      <td>3841758.18</td>\n",
       "    </tr>\n",
       "    <tr>\n",
       "      <th>Embakasi</th>\n",
       "      <td>3704654.03</td>\n",
       "    </tr>\n",
       "    <tr>\n",
       "      <th>Mombasa</th>\n",
       "      <td>3638820.10</td>\n",
       "    </tr>\n",
       "    <tr>\n",
       "      <th>Kitale</th>\n",
       "      <td>3616726.20</td>\n",
       "    </tr>\n",
       "    <tr>\n",
       "      <th>Kariobangi</th>\n",
       "      <td>3521010.25</td>\n",
       "    </tr>\n",
       "    <tr>\n",
       "      <th>Thika</th>\n",
       "      <td>3405078.55</td>\n",
       "    </tr>\n",
       "    <tr>\n",
       "      <th>Eldoret</th>\n",
       "      <td>3190135.13</td>\n",
       "    </tr>\n",
       "    <tr>\n",
       "      <th>Kericho</th>\n",
       "      <td>3122673.40</td>\n",
       "    </tr>\n",
       "    <tr>\n",
       "      <th>Rongai</th>\n",
       "      <td>3054103.23</td>\n",
       "    </tr>\n",
       "    <tr>\n",
       "      <th>Limuru</th>\n",
       "      <td>2971784.90</td>\n",
       "    </tr>\n",
       "    <tr>\n",
       "      <th>Litein</th>\n",
       "      <td>2895543.06</td>\n",
       "    </tr>\n",
       "    <tr>\n",
       "      <th>Eldoret 3</th>\n",
       "      <td>2824695.02</td>\n",
       "    </tr>\n",
       "    <tr>\n",
       "      <th>Nakuru</th>\n",
       "      <td>2775420.25</td>\n",
       "    </tr>\n",
       "    <tr>\n",
       "      <th>Bomet</th>\n",
       "      <td>2690279.12</td>\n",
       "    </tr>\n",
       "    <tr>\n",
       "      <th>Mtwapa</th>\n",
       "      <td>2664234.04</td>\n",
       "    </tr>\n",
       "    <tr>\n",
       "      <th>Naivasha</th>\n",
       "      <td>2642131.19</td>\n",
       "    </tr>\n",
       "    <tr>\n",
       "      <th>Kapsabet</th>\n",
       "      <td>2526641.32</td>\n",
       "    </tr>\n",
       "    <tr>\n",
       "      <th>Nandi Hills</th>\n",
       "      <td>2518342.04</td>\n",
       "    </tr>\n",
       "    <tr>\n",
       "      <th>Narok</th>\n",
       "      <td>2459904.14</td>\n",
       "    </tr>\n",
       "    <tr>\n",
       "      <th>Ukunda</th>\n",
       "      <td>2229813.04</td>\n",
       "    </tr>\n",
       "    <tr>\n",
       "      <th>Iten</th>\n",
       "      <td>2212155.00</td>\n",
       "    </tr>\n",
       "    <tr>\n",
       "      <th>Kapenguria</th>\n",
       "      <td>2177436.00</td>\n",
       "    </tr>\n",
       "    <tr>\n",
       "      <th>Head Office</th>\n",
       "      <td>0.00</td>\n",
       "    </tr>\n",
       "  </tbody>\n",
       "</table>\n",
       "</div>"
      ],
      "text/plain": [
       "              Loan_Outstanding\n",
       "Office                        \n",
       "Ngorika            42159738.56\n",
       "Ndonyo Njeru       29056546.31\n",
       "Ngong Rd            4907026.66\n",
       "Eldoret 2           4734012.18\n",
       "Kahawa              4144449.63\n",
       "Kiambu              3841758.18\n",
       "Embakasi            3704654.03\n",
       "Mombasa             3638820.10\n",
       "Kitale              3616726.20\n",
       "Kariobangi          3521010.25\n",
       "Thika               3405078.55\n",
       "Eldoret             3190135.13\n",
       "Kericho             3122673.40\n",
       "Rongai              3054103.23\n",
       "Limuru              2971784.90\n",
       "Litein              2895543.06\n",
       "Eldoret 3           2824695.02\n",
       "Nakuru              2775420.25\n",
       "Bomet               2690279.12\n",
       "Mtwapa              2664234.04\n",
       "Naivasha            2642131.19\n",
       "Kapsabet            2526641.32\n",
       "Nandi Hills         2518342.04\n",
       "Narok               2459904.14\n",
       "Ukunda              2229813.04\n",
       "Iten                2212155.00\n",
       "Kapenguria          2177436.00\n",
       "Head Office               0.00"
      ]
     },
     "execution_count": 65,
     "metadata": {},
     "output_type": "execute_result"
    }
   ],
   "source": [
    "# Loan Outstanding amounts per office\n",
    "pd.pivot_table(comb_cl, index=['Office'], values=['Loan_Outstanding'], aggfunc=np.sum).sort_values('Loan_Outstanding', ascending=False)"
   ]
  },
  {
   "cell_type": "code",
   "execution_count": 66,
   "metadata": {},
   "outputs": [
    {
     "data": {
      "text/html": [
       "<div>\n",
       "<style scoped>\n",
       "    .dataframe tbody tr th:only-of-type {\n",
       "        vertical-align: middle;\n",
       "    }\n",
       "\n",
       "    .dataframe tbody tr th {\n",
       "        vertical-align: top;\n",
       "    }\n",
       "\n",
       "    .dataframe thead th {\n",
       "        text-align: right;\n",
       "    }\n",
       "</style>\n",
       "<table border=\"1\" class=\"dataframe\">\n",
       "  <thead>\n",
       "    <tr style=\"text-align: right;\">\n",
       "      <th></th>\n",
       "      <th>Penalties_Outstanding</th>\n",
       "    </tr>\n",
       "    <tr>\n",
       "      <th>Office</th>\n",
       "      <th></th>\n",
       "    </tr>\n",
       "  </thead>\n",
       "  <tbody>\n",
       "    <tr>\n",
       "      <th>Embakasi</th>\n",
       "      <td>18829218.44</td>\n",
       "    </tr>\n",
       "    <tr>\n",
       "      <th>Nakuru</th>\n",
       "      <td>13659095.09</td>\n",
       "    </tr>\n",
       "    <tr>\n",
       "      <th>Ngong Rd</th>\n",
       "      <td>13377231.18</td>\n",
       "    </tr>\n",
       "    <tr>\n",
       "      <th>Kariobangi</th>\n",
       "      <td>12903965.05</td>\n",
       "    </tr>\n",
       "    <tr>\n",
       "      <th>Rongai</th>\n",
       "      <td>10885368.02</td>\n",
       "    </tr>\n",
       "    <tr>\n",
       "      <th>Kitale</th>\n",
       "      <td>9662202.06</td>\n",
       "    </tr>\n",
       "    <tr>\n",
       "      <th>Naivasha</th>\n",
       "      <td>8106152.04</td>\n",
       "    </tr>\n",
       "    <tr>\n",
       "      <th>Kericho</th>\n",
       "      <td>7359244.01</td>\n",
       "    </tr>\n",
       "    <tr>\n",
       "      <th>Kiambu</th>\n",
       "      <td>7357390.78</td>\n",
       "    </tr>\n",
       "    <tr>\n",
       "      <th>Eldoret 2</th>\n",
       "      <td>6322161.31</td>\n",
       "    </tr>\n",
       "    <tr>\n",
       "      <th>Kapsabet</th>\n",
       "      <td>6266587.01</td>\n",
       "    </tr>\n",
       "    <tr>\n",
       "      <th>Limuru</th>\n",
       "      <td>4975854.84</td>\n",
       "    </tr>\n",
       "    <tr>\n",
       "      <th>Eldoret</th>\n",
       "      <td>4603135.37</td>\n",
       "    </tr>\n",
       "    <tr>\n",
       "      <th>Kahawa</th>\n",
       "      <td>4558432.21</td>\n",
       "    </tr>\n",
       "    <tr>\n",
       "      <th>Thika</th>\n",
       "      <td>4207960.48</td>\n",
       "    </tr>\n",
       "    <tr>\n",
       "      <th>Iten</th>\n",
       "      <td>999680.00</td>\n",
       "    </tr>\n",
       "    <tr>\n",
       "      <th>Kapenguria</th>\n",
       "      <td>830090.00</td>\n",
       "    </tr>\n",
       "    <tr>\n",
       "      <th>Mombasa</th>\n",
       "      <td>569978.01</td>\n",
       "    </tr>\n",
       "    <tr>\n",
       "      <th>Bomet</th>\n",
       "      <td>533840.00</td>\n",
       "    </tr>\n",
       "    <tr>\n",
       "      <th>Narok</th>\n",
       "      <td>505470.00</td>\n",
       "    </tr>\n",
       "    <tr>\n",
       "      <th>Mtwapa</th>\n",
       "      <td>475634.00</td>\n",
       "    </tr>\n",
       "    <tr>\n",
       "      <th>Eldoret 3</th>\n",
       "      <td>445855.00</td>\n",
       "    </tr>\n",
       "    <tr>\n",
       "      <th>Ngorika</th>\n",
       "      <td>380248.37</td>\n",
       "    </tr>\n",
       "    <tr>\n",
       "      <th>Ukunda</th>\n",
       "      <td>350175.00</td>\n",
       "    </tr>\n",
       "    <tr>\n",
       "      <th>Litein</th>\n",
       "      <td>343156.00</td>\n",
       "    </tr>\n",
       "    <tr>\n",
       "      <th>Nandi Hills</th>\n",
       "      <td>217840.00</td>\n",
       "    </tr>\n",
       "    <tr>\n",
       "      <th>Ndonyo Njeru</th>\n",
       "      <td>0.00</td>\n",
       "    </tr>\n",
       "    <tr>\n",
       "      <th>Head Office</th>\n",
       "      <td>0.00</td>\n",
       "    </tr>\n",
       "  </tbody>\n",
       "</table>\n",
       "</div>"
      ],
      "text/plain": [
       "              Penalties_Outstanding\n",
       "Office                             \n",
       "Embakasi                18829218.44\n",
       "Nakuru                  13659095.09\n",
       "Ngong Rd                13377231.18\n",
       "Kariobangi              12903965.05\n",
       "Rongai                  10885368.02\n",
       "Kitale                   9662202.06\n",
       "Naivasha                 8106152.04\n",
       "Kericho                  7359244.01\n",
       "Kiambu                   7357390.78\n",
       "Eldoret 2                6322161.31\n",
       "Kapsabet                 6266587.01\n",
       "Limuru                   4975854.84\n",
       "Eldoret                  4603135.37\n",
       "Kahawa                   4558432.21\n",
       "Thika                    4207960.48\n",
       "Iten                      999680.00\n",
       "Kapenguria                830090.00\n",
       "Mombasa                   569978.01\n",
       "Bomet                     533840.00\n",
       "Narok                     505470.00\n",
       "Mtwapa                    475634.00\n",
       "Eldoret 3                 445855.00\n",
       "Ngorika                   380248.37\n",
       "Ukunda                    350175.00\n",
       "Litein                    343156.00\n",
       "Nandi Hills               217840.00\n",
       "Ndonyo Njeru                   0.00\n",
       "Head Office                    0.00"
      ]
     },
     "execution_count": 66,
     "metadata": {},
     "output_type": "execute_result"
    }
   ],
   "source": [
    "# Penalties Outstanding amounts per office\n",
    "pd.pivot_table(comb_cl, index=['Office'], values=['Penalties_Outstanding'], aggfunc=np.sum).sort_values('Penalties_Outstanding', ascending=False)"
   ]
  },
  {
   "cell_type": "markdown",
   "metadata": {},
   "source": [
    "# Repayment Analysis"
   ]
  },
  {
   "cell_type": "code",
   "execution_count": 67,
   "metadata": {
    "scrolled": false
   },
   "outputs": [
    {
     "data": {
      "text/plain": [
       "Loan_ID\n",
       "5    11500.0\n",
       "6    15000.0\n",
       "7    20000.0\n",
       "Name: Amount, dtype: float64"
      ]
     },
     "execution_count": 67,
     "metadata": {},
     "output_type": "execute_result"
    }
   ],
   "source": [
    "# repayments\n",
    "repayment_amount =loans_payments.groupby('Loan_ID')['Amount'].sum()\n",
    "repayment_amount.head(3)"
   ]
  },
  {
   "cell_type": "code",
   "execution_count": 68,
   "metadata": {},
   "outputs": [
    {
     "data": {
      "text/html": [
       "<div>\n",
       "<style scoped>\n",
       "    .dataframe tbody tr th:only-of-type {\n",
       "        vertical-align: middle;\n",
       "    }\n",
       "\n",
       "    .dataframe tbody tr th {\n",
       "        vertical-align: top;\n",
       "    }\n",
       "\n",
       "    .dataframe thead th {\n",
       "        text-align: right;\n",
       "    }\n",
       "</style>\n",
       "<table border=\"1\" class=\"dataframe\">\n",
       "  <thead>\n",
       "    <tr style=\"text-align: right;\">\n",
       "      <th></th>\n",
       "      <th>Loan_ID</th>\n",
       "      <th>Client_ID</th>\n",
       "      <th>Product_ID</th>\n",
       "      <th>Product</th>\n",
       "      <th>Status_ID</th>\n",
       "      <th>Loan_Status</th>\n",
       "      <th>Principal</th>\n",
       "      <th>Interest</th>\n",
       "      <th>Repayments</th>\n",
       "      <th>Date_Disbursed</th>\n",
       "      <th>...</th>\n",
       "      <th>Interest_Repaid</th>\n",
       "      <th>Interest_Outstanding</th>\n",
       "      <th>Loan_Outstanding</th>\n",
       "      <th>Penalties_Charged</th>\n",
       "      <th>Penalties_Paid</th>\n",
       "      <th>Penalties_Waived</th>\n",
       "      <th>Penalties_Outstanding</th>\n",
       "      <th>repeat_borrowing</th>\n",
       "      <th>check_dates</th>\n",
       "      <th>Amount</th>\n",
       "    </tr>\n",
       "  </thead>\n",
       "  <tbody>\n",
       "    <tr>\n",
       "      <th>0</th>\n",
       "      <td>5</td>\n",
       "      <td>9</td>\n",
       "      <td>3</td>\n",
       "      <td>Inua Biashara</td>\n",
       "      <td>600</td>\n",
       "      <td>Closed</td>\n",
       "      <td>10000</td>\n",
       "      <td>0.0</td>\n",
       "      <td>4</td>\n",
       "      <td>2015-01-15</td>\n",
       "      <td>...</td>\n",
       "      <td>0.0</td>\n",
       "      <td>0.0</td>\n",
       "      <td>0.0</td>\n",
       "      <td>1500.0</td>\n",
       "      <td>1500.0</td>\n",
       "      <td>0.0</td>\n",
       "      <td>0.0</td>\n",
       "      <td>3</td>\n",
       "      <td>right</td>\n",
       "      <td>11500.0</td>\n",
       "    </tr>\n",
       "    <tr>\n",
       "      <th>1</th>\n",
       "      <td>6</td>\n",
       "      <td>10</td>\n",
       "      <td>3</td>\n",
       "      <td>Inua Biashara</td>\n",
       "      <td>600</td>\n",
       "      <td>Closed</td>\n",
       "      <td>15000</td>\n",
       "      <td>0.0</td>\n",
       "      <td>4</td>\n",
       "      <td>2015-01-16</td>\n",
       "      <td>...</td>\n",
       "      <td>0.0</td>\n",
       "      <td>0.0</td>\n",
       "      <td>0.0</td>\n",
       "      <td>0.0</td>\n",
       "      <td>0.0</td>\n",
       "      <td>0.0</td>\n",
       "      <td>0.0</td>\n",
       "      <td>2</td>\n",
       "      <td>right</td>\n",
       "      <td>15000.0</td>\n",
       "    </tr>\n",
       "    <tr>\n",
       "      <th>2</th>\n",
       "      <td>7</td>\n",
       "      <td>11</td>\n",
       "      <td>3</td>\n",
       "      <td>Inua Biashara</td>\n",
       "      <td>600</td>\n",
       "      <td>Closed</td>\n",
       "      <td>20000</td>\n",
       "      <td>0.0</td>\n",
       "      <td>4</td>\n",
       "      <td>2015-01-16</td>\n",
       "      <td>...</td>\n",
       "      <td>0.0</td>\n",
       "      <td>0.0</td>\n",
       "      <td>0.0</td>\n",
       "      <td>0.0</td>\n",
       "      <td>0.0</td>\n",
       "      <td>0.0</td>\n",
       "      <td>0.0</td>\n",
       "      <td>2</td>\n",
       "      <td>right</td>\n",
       "      <td>20000.0</td>\n",
       "    </tr>\n",
       "  </tbody>\n",
       "</table>\n",
       "<p>3 rows × 25 columns</p>\n",
       "</div>"
      ],
      "text/plain": [
       "   Loan_ID  Client_ID  Product_ID        Product  Status_ID Loan_Status  \\\n",
       "0        5          9           3  Inua Biashara        600      Closed   \n",
       "1        6         10           3  Inua Biashara        600      Closed   \n",
       "2        7         11           3  Inua Biashara        600      Closed   \n",
       "\n",
       "   Principal  Interest  Repayments Date_Disbursed  ... Interest_Repaid  \\\n",
       "0      10000       0.0           4     2015-01-15  ...             0.0   \n",
       "1      15000       0.0           4     2015-01-16  ...             0.0   \n",
       "2      20000       0.0           4     2015-01-16  ...             0.0   \n",
       "\n",
       "  Interest_Outstanding Loan_Outstanding  Penalties_Charged  Penalties_Paid  \\\n",
       "0                  0.0              0.0             1500.0          1500.0   \n",
       "1                  0.0              0.0                0.0             0.0   \n",
       "2                  0.0              0.0                0.0             0.0   \n",
       "\n",
       "   Penalties_Waived  Penalties_Outstanding  repeat_borrowing  check_dates  \\\n",
       "0               0.0                    0.0                 3        right   \n",
       "1               0.0                    0.0                 2        right   \n",
       "2               0.0                    0.0                 2        right   \n",
       "\n",
       "    Amount  \n",
       "0  11500.0  \n",
       "1  15000.0  \n",
       "2  20000.0  \n",
       "\n",
       "[3 rows x 25 columns]"
      ]
     },
     "execution_count": 68,
     "metadata": {},
     "output_type": "execute_result"
    }
   ],
   "source": [
    "# merge repayment amount with loans \n",
    "loan_repayment = loans.merge(repayment_amount, on='Loan_ID')\n",
    "loan_repayment.head(3)"
   ]
  },
  {
   "cell_type": "code",
   "execution_count": 69,
   "metadata": {},
   "outputs": [
    {
     "data": {
      "text/html": [
       "<div>\n",
       "<style scoped>\n",
       "    .dataframe tbody tr th:only-of-type {\n",
       "        vertical-align: middle;\n",
       "    }\n",
       "\n",
       "    .dataframe tbody tr th {\n",
       "        vertical-align: top;\n",
       "    }\n",
       "\n",
       "    .dataframe thead th {\n",
       "        text-align: right;\n",
       "    }\n",
       "</style>\n",
       "<table border=\"1\" class=\"dataframe\">\n",
       "  <thead>\n",
       "    <tr style=\"text-align: right;\">\n",
       "      <th></th>\n",
       "      <th>Loan_ID</th>\n",
       "      <th>Client_ID</th>\n",
       "      <th>Product_ID</th>\n",
       "      <th>Product</th>\n",
       "      <th>Status_ID</th>\n",
       "      <th>Loan_Status</th>\n",
       "      <th>Principal</th>\n",
       "      <th>Interest</th>\n",
       "      <th>Repayments</th>\n",
       "      <th>Date_Disbursed</th>\n",
       "      <th>...</th>\n",
       "      <th>Interest_Repaid</th>\n",
       "      <th>Interest_Outstanding</th>\n",
       "      <th>Loan_Outstanding</th>\n",
       "      <th>Penalties_Charged</th>\n",
       "      <th>Penalties_Paid</th>\n",
       "      <th>Penalties_Waived</th>\n",
       "      <th>Penalties_Outstanding</th>\n",
       "      <th>repeat_borrowing</th>\n",
       "      <th>check_dates</th>\n",
       "      <th>Repaid_Amount</th>\n",
       "    </tr>\n",
       "  </thead>\n",
       "  <tbody>\n",
       "    <tr>\n",
       "      <th>0</th>\n",
       "      <td>5</td>\n",
       "      <td>9</td>\n",
       "      <td>3</td>\n",
       "      <td>Inua Biashara</td>\n",
       "      <td>600</td>\n",
       "      <td>Closed</td>\n",
       "      <td>10000</td>\n",
       "      <td>0.0</td>\n",
       "      <td>4</td>\n",
       "      <td>2015-01-15</td>\n",
       "      <td>...</td>\n",
       "      <td>0.0</td>\n",
       "      <td>0.0</td>\n",
       "      <td>0.0</td>\n",
       "      <td>1500.0</td>\n",
       "      <td>1500.0</td>\n",
       "      <td>0.0</td>\n",
       "      <td>0.0</td>\n",
       "      <td>3</td>\n",
       "      <td>right</td>\n",
       "      <td>11500.0</td>\n",
       "    </tr>\n",
       "    <tr>\n",
       "      <th>1</th>\n",
       "      <td>6</td>\n",
       "      <td>10</td>\n",
       "      <td>3</td>\n",
       "      <td>Inua Biashara</td>\n",
       "      <td>600</td>\n",
       "      <td>Closed</td>\n",
       "      <td>15000</td>\n",
       "      <td>0.0</td>\n",
       "      <td>4</td>\n",
       "      <td>2015-01-16</td>\n",
       "      <td>...</td>\n",
       "      <td>0.0</td>\n",
       "      <td>0.0</td>\n",
       "      <td>0.0</td>\n",
       "      <td>0.0</td>\n",
       "      <td>0.0</td>\n",
       "      <td>0.0</td>\n",
       "      <td>0.0</td>\n",
       "      <td>2</td>\n",
       "      <td>right</td>\n",
       "      <td>15000.0</td>\n",
       "    </tr>\n",
       "  </tbody>\n",
       "</table>\n",
       "<p>2 rows × 25 columns</p>\n",
       "</div>"
      ],
      "text/plain": [
       "   Loan_ID  Client_ID  Product_ID        Product  Status_ID Loan_Status  \\\n",
       "0        5          9           3  Inua Biashara        600      Closed   \n",
       "1        6         10           3  Inua Biashara        600      Closed   \n",
       "\n",
       "   Principal  Interest  Repayments Date_Disbursed  ... Interest_Repaid  \\\n",
       "0      10000       0.0           4     2015-01-15  ...             0.0   \n",
       "1      15000       0.0           4     2015-01-16  ...             0.0   \n",
       "\n",
       "  Interest_Outstanding Loan_Outstanding  Penalties_Charged  Penalties_Paid  \\\n",
       "0                  0.0              0.0             1500.0          1500.0   \n",
       "1                  0.0              0.0                0.0             0.0   \n",
       "\n",
       "   Penalties_Waived  Penalties_Outstanding  repeat_borrowing  check_dates  \\\n",
       "0               0.0                    0.0                 3        right   \n",
       "1               0.0                    0.0                 2        right   \n",
       "\n",
       "   Repaid_Amount  \n",
       "0        11500.0  \n",
       "1        15000.0  \n",
       "\n",
       "[2 rows x 25 columns]"
      ]
     },
     "execution_count": 69,
     "metadata": {},
     "output_type": "execute_result"
    }
   ],
   "source": [
    "# rename Amount column\n",
    "loan_repayment = loan_repayment.rename(columns={'Amount': 'Repaid_Amount'})\n",
    "loan_repayment.head(2)"
   ]
  },
  {
   "cell_type": "code",
   "execution_count": 70,
   "metadata": {},
   "outputs": [
    {
     "data": {
      "text/html": [
       "<div>\n",
       "<style scoped>\n",
       "    .dataframe tbody tr th:only-of-type {\n",
       "        vertical-align: middle;\n",
       "    }\n",
       "\n",
       "    .dataframe tbody tr th {\n",
       "        vertical-align: top;\n",
       "    }\n",
       "\n",
       "    .dataframe thead th {\n",
       "        text-align: right;\n",
       "    }\n",
       "</style>\n",
       "<table border=\"1\" class=\"dataframe\">\n",
       "  <thead>\n",
       "    <tr style=\"text-align: right;\">\n",
       "      <th></th>\n",
       "      <th>Loan_ID</th>\n",
       "      <th>Client_ID</th>\n",
       "      <th>Product_ID</th>\n",
       "      <th>Product</th>\n",
       "      <th>Status_ID</th>\n",
       "      <th>Loan_Status</th>\n",
       "      <th>Principal</th>\n",
       "      <th>Interest</th>\n",
       "      <th>Repayments</th>\n",
       "      <th>Date_Disbursed</th>\n",
       "      <th>...</th>\n",
       "      <th>Interest_Outstanding</th>\n",
       "      <th>Loan_Outstanding</th>\n",
       "      <th>Penalties_Charged</th>\n",
       "      <th>Penalties_Paid</th>\n",
       "      <th>Penalties_Waived</th>\n",
       "      <th>Penalties_Outstanding</th>\n",
       "      <th>repeat_borrowing</th>\n",
       "      <th>check_dates</th>\n",
       "      <th>Repaid_Amount</th>\n",
       "      <th>repayment_rate</th>\n",
       "    </tr>\n",
       "  </thead>\n",
       "  <tbody>\n",
       "    <tr>\n",
       "      <th>0</th>\n",
       "      <td>5</td>\n",
       "      <td>9</td>\n",
       "      <td>3</td>\n",
       "      <td>Inua Biashara</td>\n",
       "      <td>600</td>\n",
       "      <td>Closed</td>\n",
       "      <td>10000</td>\n",
       "      <td>0.0</td>\n",
       "      <td>4</td>\n",
       "      <td>2015-01-15</td>\n",
       "      <td>...</td>\n",
       "      <td>0.0</td>\n",
       "      <td>0.0</td>\n",
       "      <td>1500.0</td>\n",
       "      <td>1500.0</td>\n",
       "      <td>0.0</td>\n",
       "      <td>0.0</td>\n",
       "      <td>3</td>\n",
       "      <td>right</td>\n",
       "      <td>11500.0</td>\n",
       "      <td>1.15</td>\n",
       "    </tr>\n",
       "    <tr>\n",
       "      <th>1</th>\n",
       "      <td>6</td>\n",
       "      <td>10</td>\n",
       "      <td>3</td>\n",
       "      <td>Inua Biashara</td>\n",
       "      <td>600</td>\n",
       "      <td>Closed</td>\n",
       "      <td>15000</td>\n",
       "      <td>0.0</td>\n",
       "      <td>4</td>\n",
       "      <td>2015-01-16</td>\n",
       "      <td>...</td>\n",
       "      <td>0.0</td>\n",
       "      <td>0.0</td>\n",
       "      <td>0.0</td>\n",
       "      <td>0.0</td>\n",
       "      <td>0.0</td>\n",
       "      <td>0.0</td>\n",
       "      <td>2</td>\n",
       "      <td>right</td>\n",
       "      <td>15000.0</td>\n",
       "      <td>1.00</td>\n",
       "    </tr>\n",
       "  </tbody>\n",
       "</table>\n",
       "<p>2 rows × 26 columns</p>\n",
       "</div>"
      ],
      "text/plain": [
       "   Loan_ID  Client_ID  Product_ID        Product  Status_ID Loan_Status  \\\n",
       "0        5          9           3  Inua Biashara        600      Closed   \n",
       "1        6         10           3  Inua Biashara        600      Closed   \n",
       "\n",
       "   Principal  Interest  Repayments Date_Disbursed  ... Interest_Outstanding  \\\n",
       "0      10000       0.0           4     2015-01-15  ...                  0.0   \n",
       "1      15000       0.0           4     2015-01-16  ...                  0.0   \n",
       "\n",
       "  Loan_Outstanding Penalties_Charged  Penalties_Paid  Penalties_Waived  \\\n",
       "0              0.0            1500.0          1500.0               0.0   \n",
       "1              0.0               0.0             0.0               0.0   \n",
       "\n",
       "   Penalties_Outstanding  repeat_borrowing  check_dates  Repaid_Amount  \\\n",
       "0                    0.0                 3        right        11500.0   \n",
       "1                    0.0                 2        right        15000.0   \n",
       "\n",
       "   repayment_rate  \n",
       "0            1.15  \n",
       "1            1.00  \n",
       "\n",
       "[2 rows x 26 columns]"
      ]
     },
     "execution_count": 70,
     "metadata": {},
     "output_type": "execute_result"
    }
   ],
   "source": [
    "# calculate repayment rate per loan id\n",
    "loan_repayment['repayment_rate'] = loan_repayment['Repaid_Amount']/loan_repayment['Principal']\n",
    "loan_repayment.head(2)"
   ]
  },
  {
   "cell_type": "code",
   "execution_count": 71,
   "metadata": {},
   "outputs": [],
   "source": [
    "# we cap repayments to a max of 1\n",
    "loan_repayment['repayment_rate'] = np.where(loan_repayment['repayment_rate']>1,1,loan_repayment['repayment_rate'])"
   ]
  },
  {
   "cell_type": "code",
   "execution_count": 72,
   "metadata": {},
   "outputs": [
    {
     "data": {
      "text/plain": [
       "count    43556.000000\n",
       "mean         0.937259\n",
       "std          0.189196\n",
       "min          0.015000\n",
       "25%          1.000000\n",
       "50%          1.000000\n",
       "75%          1.000000\n",
       "max          1.000000\n",
       "Name: repayment_rate, dtype: float64"
      ]
     },
     "execution_count": 72,
     "metadata": {},
     "output_type": "execute_result"
    }
   ],
   "source": [
    "# summary stats of loan repayment rate\n",
    "loan_repayment['repayment_rate'].describe()"
   ]
  },
  {
   "cell_type": "code",
   "execution_count": 73,
   "metadata": {
    "scrolled": true
   },
   "outputs": [
    {
     "name": "stdout",
     "output_type": "stream",
     "text": [
      "Overal repayment rate is 0.937258962741\n"
     ]
    }
   ],
   "source": [
    "# overall repayment rate\n",
    "repayment_rate = loan_repayment['repayment_rate'].mean()\n",
    "print(\"Overal repayment rate is {}\".format(repayment_rate))"
   ]
  },
  {
   "cell_type": "code",
   "execution_count": 74,
   "metadata": {},
   "outputs": [
    {
     "data": {
      "text/html": [
       "<div>\n",
       "<style scoped>\n",
       "    .dataframe tbody tr th:only-of-type {\n",
       "        vertical-align: middle;\n",
       "    }\n",
       "\n",
       "    .dataframe tbody tr th {\n",
       "        vertical-align: top;\n",
       "    }\n",
       "\n",
       "    .dataframe thead th {\n",
       "        text-align: right;\n",
       "    }\n",
       "</style>\n",
       "<table border=\"1\" class=\"dataframe\">\n",
       "  <thead>\n",
       "    <tr style=\"text-align: right;\">\n",
       "      <th></th>\n",
       "      <th>repayment_rate</th>\n",
       "    </tr>\n",
       "    <tr>\n",
       "      <th>Product</th>\n",
       "      <th></th>\n",
       "    </tr>\n",
       "  </thead>\n",
       "  <tbody>\n",
       "    <tr>\n",
       "      <th>Dumisha Biashara</th>\n",
       "      <td>0.937306</td>\n",
       "    </tr>\n",
       "    <tr>\n",
       "      <th>Inua Biashara</th>\n",
       "      <td>0.959383</td>\n",
       "    </tr>\n",
       "    <tr>\n",
       "      <th>Inua Biashara Post Paid (10%)</th>\n",
       "      <td>1.000000</td>\n",
       "    </tr>\n",
       "    <tr>\n",
       "      <th>Inua Biashara Post Paid (15%)</th>\n",
       "      <td>1.000000</td>\n",
       "    </tr>\n",
       "    <tr>\n",
       "      <th>Jenga Biashara</th>\n",
       "      <td>0.933536</td>\n",
       "    </tr>\n",
       "    <tr>\n",
       "      <th>Ndonyo Njeru Agri Loan</th>\n",
       "      <td>0.325211</td>\n",
       "    </tr>\n",
       "    <tr>\n",
       "      <th>New Ngorika Agri Loan</th>\n",
       "      <td>0.467141</td>\n",
       "    </tr>\n",
       "    <tr>\n",
       "      <th>New Ngorika Capacity Loan</th>\n",
       "      <td>0.854154</td>\n",
       "    </tr>\n",
       "    <tr>\n",
       "      <th>All</th>\n",
       "      <td>0.937259</td>\n",
       "    </tr>\n",
       "  </tbody>\n",
       "</table>\n",
       "</div>"
      ],
      "text/plain": [
       "                               repayment_rate\n",
       "Product                                      \n",
       "Dumisha Biashara                     0.937306\n",
       "Inua Biashara                        0.959383\n",
       "Inua Biashara Post Paid (10%)        1.000000\n",
       "Inua Biashara Post Paid (15%)        1.000000\n",
       "Jenga Biashara                       0.933536\n",
       "Ndonyo Njeru Agri Loan               0.325211\n",
       "New Ngorika Agri Loan                0.467141\n",
       "New Ngorika Capacity Loan            0.854154\n",
       "All                                  0.937259"
      ]
     },
     "execution_count": 74,
     "metadata": {},
     "output_type": "execute_result"
    }
   ],
   "source": [
    "# repayment rate per product\n",
    "pd.pivot_table(loan_repayment, index=['Product'], values=['repayment_rate'], aggfunc=np.mean, margins=True)"
   ]
  },
  {
   "cell_type": "markdown",
   "metadata": {
    "colab_type": "text",
    "id": "Qil6MX2RmH4-"
   },
   "source": [
    "# Fancy graphs"
   ]
  },
  {
   "cell_type": "code",
   "execution_count": 75,
   "metadata": {
    "colab": {
     "base_uri": "https://localhost:8080/",
     "height": 447
    },
    "colab_type": "code",
    "id": "wIxGL17Gd6xR",
    "outputId": "14e5bdc6-efc4-4799-ec38-03a342c67491"
   },
   "outputs": [
    {
     "data": {
      "image/png": "[encoded data removed]",
      "text/plain": [
       "<Figure size 432x288 with 1 Axes>"
      ]
     },
     "metadata": {
      "needs_background": "light"
     },
     "output_type": "display_data"
    }
   ],
   "source": [
    "#Realtionship between products and loan status\n",
    "import matplotlib.ticker as mtick\n",
    "loans.groupby(['Product','Loan_Status']).size().groupby(level=0).apply(\n",
    "    lambda x: 100 * x / x.sum()\n",
    ").unstack().plot(kind='bar',stacked=True)\n",
    "\n",
    "plt.gca().yaxis.set_major_formatter(mtick.PercentFormatter())\n",
    "plt.legend(loc='center left', bbox_to_anchor=(1, 0.5))\n",
    "plt.show()"
   ]
  },
  {
   "cell_type": "code",
   "execution_count": 76,
   "metadata": {
    "colab": {
     "base_uri": "https://localhost:8080/",
     "height": 357
    },
    "colab_type": "code",
    "id": "FxDIJ1NbnMBe",
    "outputId": "4bcc6550-d04e-4981-df52-9450d5b3aa52"
   },
   "outputs": [
    {
     "data": {
      "image/png": "[encoded data removed]",
      "text/plain": [
       "<Figure size 432x288 with 1 Axes>"
      ]
     },
     "metadata": {
      "needs_background": "light"
     },
     "output_type": "display_data"
    }
   ],
   "source": [
    "#Realtionship between products and loan status\n",
    "loans.groupby(['Loan_Status','Product']).size().groupby(level=0).apply(\n",
    "    lambda x: 100 * x / x.sum()\n",
    ").unstack().plot(kind='bar',stacked=True)\n",
    "\n",
    "plt.gca().yaxis.set_major_formatter(mtick.PercentFormatter())\n",
    "plt.legend(loc='center left', bbox_to_anchor=(1, 0.5))\n",
    "plt.show()"
   ]
  },
  {
   "cell_type": "code",
   "execution_count": 77,
   "metadata": {
    "colab": {
     "base_uri": "https://localhost:8080/",
     "height": 356
    },
    "colab_type": "code",
    "id": "HvFG6I4uf81d",
    "outputId": "384a35f5-acbe-4e64-99a8-0ea3e30949f7"
   },
   "outputs": [
    {
     "data": {
      "image/png": "[encoded data removed]",
      "text/plain": [
       "<Figure size 432x288 with 1 Axes>"
      ]
     },
     "metadata": {
      "needs_background": "light"
     },
     "output_type": "display_data"
    }
   ],
   "source": [
    "#In valid loans,relationship between offices and products\n",
    "comb_cl.groupby(['Office','Product']).size().groupby(level=0).apply(\n",
    "    lambda x: 100 * x / x.sum()\n",
    ").unstack().plot(kind='bar',stacked=True)\n",
    "\n",
    "plt.gca().yaxis.set_major_formatter(mtick.PercentFormatter())\n",
    "plt.legend(loc='center left', bbox_to_anchor=(1, 0.5))\n",
    "plt.show()"
   ]
  },
  {
   "cell_type": "code",
   "execution_count": 78,
   "metadata": {
    "colab": {
     "base_uri": "https://localhost:8080/",
     "height": 356
    },
    "colab_type": "code",
    "id": "hgK2MNGoitFz",
    "outputId": "1b22fa1a-01d0-47d8-b351-e2b80e6c9c8e"
   },
   "outputs": [
    {
     "data": {
      "image/png": "[encoded data removed]",
      "text/plain": [
       "<Figure size 432x288 with 1 Axes>"
      ]
     },
     "metadata": {
      "needs_background": "light"
     },
     "output_type": "display_data"
    }
   ],
   "source": [
    "#Relationship between loan status and offices\n",
    "comb_cl.groupby(['Office','Loan_Status']).size().groupby(level=0).apply(\n",
    "    lambda x: 100 * x / x.sum()\n",
    ").unstack().plot(kind='bar',stacked=True)\n",
    "\n",
    "plt.gca().yaxis.set_major_formatter(mtick.PercentFormatter())\n",
    "plt.legend(loc='center left', bbox_to_anchor=(1, 0.5))\n",
    "plt.show()"
   ]
  },
  {
   "cell_type": "code",
   "execution_count": null,
   "metadata": {},
   "outputs": [],
   "source": []
  },
  {
   "cell_type": "code",
   "execution_count": null,
   "metadata": {},
   "outputs": [],
   "source": []
  }
 ],
 "metadata": {
  "accelerator": "GPU",
  "colab": {
   "collapsed_sections": [],
   "name": "inuka.ipynb",
   "provenance": [],
   "toc_visible": true,
   "version": "0.3.2"
  },
  "kernelspec": {
   "display_name": "Python 2",
   "language": "python",
   "name": "python2"
  },
  "language_info": {
   "codemirror_mode": {
    "name": "ipython",
    "version": 2
   },
   "file_extension": ".py",
   "mimetype": "text/x-python",
   "name": "python",
   "nbconvert_exporter": "python",
   "pygments_lexer": "ipython2",
   "version": "2.7.16"
  }
 },
 "nbformat": 4,
 "nbformat_minor": 2
}
